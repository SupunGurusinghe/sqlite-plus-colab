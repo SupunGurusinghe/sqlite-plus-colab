{
  "nbformat": 4,
  "nbformat_minor": 0,
  "metadata": {
    "colab": {
      "provenance": [],
      "authorship_tag": "ABX9TyPF1yHsi5Lq9r7nt+kCR3Rj",
      "include_colab_link": true
    },
    "kernelspec": {
      "name": "python3",
      "display_name": "Python 3"
    },
    "language_info": {
      "name": "python"
    }
  },
  "cells": [
    {
      "cell_type": "markdown",
      "metadata": {
        "id": "view-in-github",
        "colab_type": "text"
      },
      "source": [
        "<a href=\"https://colab.research.google.com/github/SupunGurusinghe/sqlite-plus-colab/blob/main/sg_project1_metadata.ipynb\" target=\"_parent\"><img src=\"https://colab.research.google.com/assets/colab-badge.svg\" alt=\"Open In Colab\"/></a>"
      ]
    },
    {
      "cell_type": "markdown",
      "source": [
        "# **Metadata**"
      ],
      "metadata": {
        "id": "Pcdk1J5gRbS3"
      }
    },
    {
      "cell_type": "markdown",
      "source": [
        "## **Introduction to Metadata in SQL**\n",
        "Metadata in simple words describe as data about data. Usually, the metadata returns the information about the database, db objects, db files, etc., in the SQL server. In relational databases metadata is said to be consisting the information regarding the schema, storage, etc., Metadata in databases for schema consists of information regarding tables, columns, constraints, foreign keys, indexes, and sequences. It also consists of information regarding the views, procedures, functions, and triggers."
      ],
      "metadata": {
        "id": "RVo-_gWyRjY0"
      }
    },
    {
      "cell_type": "markdown",
      "source": [
        "### **To find ID of a schema object below syntax format is used:**\n",
        "> SELECT OBJECT_ID(N'dbo.tablename’);\n",
        "\n",
        "#### Example:\n",
        "> SELECT OBJECT_ID(N'dbo.staging_employee');\n",
        "\n",
        "---\n",
        "\n",
        "### **To find the information about all the columns in db we use the below syntax:**\n",
        "> SELECT nameas \"TABLE COLUMN NAMES\",column_id AS \" COLUMN ID\"\n",
        "FROM sys.columns/* - - - Predefined columns- - - */\n",
        "WHERE object_id = OBJECT_ID(N’dbo.tablename’);\n",
        "\n",
        "#### Example:\n",
        "> SELECT name as \" TABLE COLUMN NAMES\",column_id AS \" COLUMN ID\"\n",
        "FROM sys.columns/* - - - Predefined columns - - - */\n",
        "WHERE object_id = OBJECT_ID(N'dbo.staging_employee');\n",
        "\n",
        "---\n",
        "\n",
        "### **To find the information related to the table we use the below syntax:**\n",
        "> SELECT name AS \"COLUMN NAME\",max_column_id_used \"MAX COLUMN ID USED\"\n",
        "FROM sys.tables\n",
        "\n",
        "---\n",
        "\n",
        "### **To find the information related to the schema we use the below syntax:**\n",
        "> SELECT name AS \"SCHEMA NAME\",schema_id AS \"SCHEMA ID\"\n",
        "FROM sys.schemas   /* - - - Predefined Schema - - - */\n",
        "WHERE principal_id = DATABASE_PRINCIPAL_ID(N'DATABASENAME');\n",
        "\n",
        "#### Example:\n",
        "> SELECT name AS \"SCHEMA NAME\",schema_id AS \"SCHEMA ID\"\n",
        "FROM sys.schemas/* - - - Predefined Schema - - - */\n",
        "WHERE principal_id=DATABASE_PRINCIPAL_ID(N'dbo');"
      ],
      "metadata": {
        "id": "FadjWytMU4yy"
      }
    },
    {
      "cell_type": "markdown",
      "source": [
        "## **How does Metadata Work in SQL?**\n",
        "\n",
        "Metadata related result set operations are used in our daily application. For example, we have data types of a column the data type related information can be found in the metadata. We can also get the information related to the length of the column and how much space storage has been taken."
      ],
      "metadata": {
        "id": "3X-u3rnLW40m"
      }
    },
    {
      "cell_type": "code",
      "execution_count": null,
      "metadata": {
        "id": "4SGaMqEkQ0W9"
      },
      "outputs": [],
      "source": []
    }
  ]
}