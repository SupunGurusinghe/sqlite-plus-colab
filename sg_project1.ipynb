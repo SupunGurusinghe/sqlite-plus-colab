{
  "nbformat": 4,
  "nbformat_minor": 0,
  "metadata": {
    "colab": {
      "provenance": [],
      "collapsed_sections": [],
      "authorship_tag": "ABX9TyN3orYUTH/bK/V4OhtnqP5L",
      "include_colab_link": true
    },
    "kernelspec": {
      "name": "python3",
      "display_name": "Python 3"
    },
    "language_info": {
      "name": "python"
    }
  },
  "cells": [
    {
      "cell_type": "markdown",
      "metadata": {
        "id": "view-in-github",
        "colab_type": "text"
      },
      "source": [
        "<a href=\"https://colab.research.google.com/github/SupunGurusinghe/sqlite-plus-colab/blob/main/sg_project1.ipynb\" target=\"_parent\"><img src=\"https://colab.research.google.com/assets/colab-badge.svg\" alt=\"Open In Colab\"/></a>"
      ]
    },
    {
      "cell_type": "markdown",
      "source": [
        "## Imports"
      ],
      "metadata": {
        "id": "RrcDyUF-FDb4"
      }
    },
    {
      "cell_type": "code",
      "execution_count": 1,
      "metadata": {
        "id": "1VDtEJCWMyPz"
      },
      "outputs": [],
      "source": [
        "import pandas as pd"
      ]
    },
    {
      "cell_type": "markdown",
      "source": [
        "## DB Connection"
      ],
      "metadata": {
        "id": "1z8n-KGzFIn0"
      }
    },
    {
      "cell_type": "code",
      "source": [
        "import sqlite3\n",
        "conn = sqlite3.connect('example.db')\n",
        "c = conn.cursor()"
      ],
      "metadata": {
        "id": "IwKQOGcEPLtY"
      },
      "execution_count": 2,
      "outputs": []
    },
    {
      "cell_type": "markdown",
      "source": [
        "## Creating a table"
      ],
      "metadata": {
        "id": "oklS44PYFN_S"
      }
    },
    {
      "cell_type": "code",
      "source": [
        "# dropping an existing table\n",
        "c.execute(\"DROP TABLE IF EXISTS employees\")\n",
        "\n",
        "# create table\n",
        "c.execute('''\n",
        "  CREATE TABLE employees(\n",
        "    id INT,\n",
        "    f_name VARCHAR(50),\n",
        "    l_name VARCHAR(50),\n",
        "    title VARCHAR(10),\n",
        "    age INT,\n",
        "    wage INT,\n",
        "    hire_date DATE\n",
        "  )\n",
        "''')\n",
        "\n",
        "employees = [(2, 'kavishka', 'tim', 'Mr', 22, 28, '2022-05-01'), \n",
        "             (2, 'Bill', 'Tibb', 'Mr', 61, 28, '2012-05-02'), \n",
        "             (3, 'Bill', 'Sadat', None, 18, 12, '2019-11-08'),\n",
        "             (4, 'Christine', 'Riveles', None, 36, 20, '2018-03-30'),\n",
        "             (5, 'David', 'Guerin', 'Honorable', 36, 20, '2018-03-30'),\n",
        "             (None, 'David', 'Guerin', 'Honorable', 36, 20, '2018-03-30')]\n",
        "\n",
        "c.executemany(\"INSERT INTO employees VALUES (?,?,?,?,?,?,?)\", employees)\n",
        "\n",
        "c.execute('SELECT * FROM employees')\n",
        "\n",
        "results = c.fetchall()\n",
        "\n",
        "for result in results:\n",
        "  print(result)\n"
      ],
      "metadata": {
        "colab": {
          "base_uri": "https://localhost:8080/"
        },
        "id": "ATp1vz7bFR7l",
        "outputId": "634f6080-25ec-4d63-d458-4c5f0c711699"
      },
      "execution_count": 3,
      "outputs": [
        {
          "output_type": "stream",
          "name": "stdout",
          "text": [
            "(2, 'kavishka', 'tim', 'Mr', 22, 28, '2022-05-01')\n",
            "(2, 'Bill', 'Tibb', 'Mr', 61, 28, '2012-05-02')\n",
            "(3, 'Bill', 'Sadat', None, 18, 12, '2019-11-08')\n",
            "(4, 'Christine', 'Riveles', None, 36, 20, '2018-03-30')\n",
            "(5, 'David', 'Guerin', 'Honorable', 36, 20, '2018-03-30')\n",
            "(None, 'David', 'Guerin', 'Honorable', 36, 20, '2018-03-30')\n"
          ]
        }
      ]
    },
    {
      "cell_type": "markdown",
      "source": [
        "## Identify `NULL` values"
      ],
      "metadata": {
        "id": "z4sjDm5uTvry"
      }
    },
    {
      "cell_type": "code",
      "source": [
        "c.execute('''\n",
        "  SELECT \n",
        "    SUM(case when id IS NULL then 1 ELSE 0 END) AS id ,\n",
        "    SUM(case when f_name IS NULL then 1 ELSE 0 END) AS f_name,\n",
        "    SUM(case when l_name IS NULL then 1 ELSE 0 END) AS l_name,\n",
        "    SUM(case when title IS NULL then 1 ELSE 0 END) AS title,\n",
        "    SUM(case when age IS NULL then 1 ELSE 0 END) AS age,\n",
        "    SUM(case when wage IS NULL then 1 ELSE 0 END) AS wage,\n",
        "    SUM(case when hire_date IS NULL then 1 ELSE 0 END) AS hire_date\n",
        "  FROM employees\n",
        "''')\n",
        "\n",
        "results = c.fetchall()\n",
        "\n",
        "for result in results:\n",
        "  print(result)"
      ],
      "metadata": {
        "id": "Y3wRCIKnTujZ",
        "colab": {
          "base_uri": "https://localhost:8080/"
        },
        "outputId": "a847096c-7ea6-4739-c25e-6d9c329e59e2"
      },
      "execution_count": 4,
      "outputs": [
        {
          "output_type": "stream",
          "name": "stdout",
          "text": [
            "(1, 0, 0, 2, 0, 0, 0)\n"
          ]
        }
      ]
    },
    {
      "cell_type": "markdown",
      "source": [
        "## Selecting rows having `NULL` value for a particular column"
      ],
      "metadata": {
        "id": "ODzcmLKprzwz"
      }
    },
    {
      "cell_type": "code",
      "source": [
        "c.execute('''\n",
        "  SELECT *\n",
        "  FROM employees\n",
        "  WHERE title IS NULL\n",
        "''')\n",
        "\n",
        "results = c.fetchall()\n",
        "\n",
        "for result in results:\n",
        "  print(result)"
      ],
      "metadata": {
        "id": "W0-fhTpISScC",
        "colab": {
          "base_uri": "https://localhost:8080/"
        },
        "outputId": "7cefcb1e-3889-4172-a65d-114f7a2b6e44"
      },
      "execution_count": 8,
      "outputs": [
        {
          "output_type": "stream",
          "name": "stdout",
          "text": [
            "(3, 'Bill', 'Sadat', None, 18, 12, '2019-11-08')\n",
            "(4, 'Christine', 'Riveles', None, 36, 20, '2018-03-30')\n"
          ]
        }
      ]
    },
    {
      "cell_type": "markdown",
      "source": [
        "## Selecting rows having `NULL` value for any of the columns"
      ],
      "metadata": {
        "id": "iQOAFw_lvNQ-"
      }
    },
    {
      "cell_type": "code",
      "source": [
        "c.execute('''\n",
        "  SELECT *\n",
        "  FROM employees\n",
        "  WHERE (id || f_name || l_name || title || age || wage || hire_date) IS NULL\n",
        "''')\n",
        "\n",
        "results = c.fetchall()\n",
        "\n",
        "for result in results:\n",
        "  print(result)"
      ],
      "metadata": {
        "colab": {
          "base_uri": "https://localhost:8080/"
        },
        "id": "hozU_mmCvTPu",
        "outputId": "9ea2b90e-3f6d-48f7-81eb-414013b149fc"
      },
      "execution_count": 13,
      "outputs": [
        {
          "output_type": "stream",
          "name": "stdout",
          "text": [
            "(3, 'Bill', 'Sadat', None, 18, 12, '2019-11-08')\n",
            "(4, 'Christine', 'Riveles', None, 36, 20, '2018-03-30')\n",
            "(None, 'David', 'Guerin', 'Honorable', 36, 20, '2018-03-30')\n"
          ]
        }
      ]
    },
    {
      "cell_type": "markdown",
      "source": [
        "## Replace `NULL` values with a sentinel (standard value)"
      ],
      "metadata": {
        "id": "puYmS4nwsOW1"
      }
    },
    {
      "cell_type": "code",
      "source": [
        "c.execute('''\n",
        "  SELECT \n",
        "    f_name,\n",
        "    l_name,\n",
        "    CASE WHEN title IS NULL THEN 'Honorable' ELSE title END AS NewTitle\n",
        "  FROM employees\n",
        "''')\n",
        "\n",
        "results = c.fetchall()\n",
        "\n",
        "for result in results:\n",
        "  print(result)"
      ],
      "metadata": {
        "id": "NeCs7f85eKur",
        "colab": {
          "base_uri": "https://localhost:8080/"
        },
        "outputId": "627bd6e5-5585-45f2-924a-9a00221d6137"
      },
      "execution_count": 6,
      "outputs": [
        {
          "output_type": "stream",
          "name": "stdout",
          "text": [
            "('kavishka', 'tim', 'Mr')\n",
            "('Bill', 'Tibb', 'Mr')\n",
            "('Bill', 'Sadat', 'Honorable')\n",
            "('Christine', 'Riveles', 'Honorable')\n",
            "('David', 'Guerin', 'Honorable')\n",
            "('David', 'Guerin', 'Honorable')\n"
          ]
        }
      ]
    }
  ]
}