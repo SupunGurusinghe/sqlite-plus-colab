{
  "nbformat": 4,
  "nbformat_minor": 0,
  "metadata": {
    "colab": {
      "provenance": [],
      "collapsed_sections": [],
      "authorship_tag": "ABX9TyMCZ/DkkfWuOeswTUQ7WRbV",
      "include_colab_link": true
    },
    "kernelspec": {
      "name": "python3",
      "display_name": "Python 3"
    },
    "language_info": {
      "name": "python"
    }
  },
  "cells": [
    {
      "cell_type": "markdown",
      "metadata": {
        "id": "view-in-github",
        "colab_type": "text"
      },
      "source": [
        "<a href=\"https://colab.research.google.com/github/SupunGurusinghe/sqlite-plus-colab/blob/main/sg_project1.ipynb\" target=\"_parent\"><img src=\"https://colab.research.google.com/assets/colab-badge.svg\" alt=\"Open In Colab\"/></a>"
      ]
    },
    {
      "cell_type": "markdown",
      "source": [
        "## Imports"
      ],
      "metadata": {
        "id": "RrcDyUF-FDb4"
      }
    },
    {
      "cell_type": "code",
      "execution_count": 1,
      "metadata": {
        "id": "1VDtEJCWMyPz"
      },
      "outputs": [],
      "source": [
        "import pandas as pd"
      ]
    },
    {
      "cell_type": "markdown",
      "source": [
        "## DB Connection"
      ],
      "metadata": {
        "id": "1z8n-KGzFIn0"
      }
    },
    {
      "cell_type": "code",
      "source": [
        "import sqlite3\n",
        "conn = sqlite3.connect('example.db')\n",
        "c = conn.cursor()"
      ],
      "metadata": {
        "id": "IwKQOGcEPLtY"
      },
      "execution_count": 2,
      "outputs": []
    },
    {
      "cell_type": "markdown",
      "source": [
        "# **Basic NULL values handling**"
      ],
      "metadata": {
        "id": "xRBXsSZx1lNW"
      }
    },
    {
      "cell_type": "markdown",
      "source": [
        "## Creating a table"
      ],
      "metadata": {
        "id": "oklS44PYFN_S"
      }
    },
    {
      "cell_type": "code",
      "source": [
        "# dropping an existing table\n",
        "c.execute(\"DROP TABLE IF EXISTS employees\")\n",
        "\n",
        "# create table\n",
        "c.execute('''\n",
        "  CREATE TABLE employees(\n",
        "    id INT,\n",
        "    f_name VARCHAR(50),\n",
        "    l_name VARCHAR(50),\n",
        "    title VARCHAR(10),\n",
        "    age INT,\n",
        "    wage INT,\n",
        "    hire_date DATE\n",
        "  )\n",
        "''')\n",
        "\n",
        "employees = [(1, 'kavishka', 'tim', 'Mr', 22, 28, '2022-05-01'), \n",
        "             (2, 'Bill', 'Tibb', 'Mr', 61, 28, '2012-05-02'), \n",
        "             (3, 'Bill', 'Sadat', None, 18, 12, '2019-11-08'),\n",
        "             (4, 'Christine', 'Riveles', None, 36, 20, '2018-03-30'),\n",
        "             (5, 'David', 'Guerin', 'Honorable', 36, 20, '2018-03-30'),\n",
        "             (None, 'David', 'Guerin', 'Honorable', 36, 20, '2018-03-30')]\n",
        "\n",
        "c.executemany(\"INSERT INTO employees VALUES (?,?,?,?,?,?,?)\", employees)\n",
        "\n",
        "c.execute('SELECT * FROM employees')\n",
        "\n",
        "results = c.fetchall()\n",
        "\n",
        "for result in results:\n",
        "  print(result)\n"
      ],
      "metadata": {
        "colab": {
          "base_uri": "https://localhost:8080/"
        },
        "id": "ATp1vz7bFR7l",
        "outputId": "29915f6e-4edb-4263-d50e-e8e9efe0e6f4"
      },
      "execution_count": 64,
      "outputs": [
        {
          "output_type": "stream",
          "name": "stdout",
          "text": [
            "(1, 'kavishka', 'tim', 'Mr', 22, 28, '2022-05-01')\n",
            "(2, 'Bill', 'Tibb', 'Mr', 61, 28, '2012-05-02')\n",
            "(3, 'Bill', 'Sadat', None, 18, 12, '2019-11-08')\n",
            "(4, 'Christine', 'Riveles', None, 36, 20, '2018-03-30')\n",
            "(5, 'David', 'Guerin', 'Honorable', 36, 20, '2018-03-30')\n",
            "(None, 'David', 'Guerin', 'Honorable', 36, 20, '2018-03-30')\n"
          ]
        }
      ]
    },
    {
      "cell_type": "code",
      "source": [],
      "metadata": {
        "id": "63Ru7321uT2t"
      },
      "execution_count": null,
      "outputs": []
    },
    {
      "cell_type": "markdown",
      "source": [
        "## Identify `NULL` values"
      ],
      "metadata": {
        "id": "z4sjDm5uTvry"
      }
    },
    {
      "cell_type": "code",
      "source": [
        "c.execute('''\n",
        "  SELECT \n",
        "    SUM(case when id IS NULL then 1 ELSE 0 END) AS id ,\n",
        "    SUM(case when f_name IS NULL then 1 ELSE 0 END) AS f_name,\n",
        "    SUM(case when l_name IS NULL then 1 ELSE 0 END) AS l_name,\n",
        "    SUM(case when title IS NULL then 1 ELSE 0 END) AS title,\n",
        "    SUM(case when age IS NULL then 1 ELSE 0 END) AS age,\n",
        "    SUM(case when wage IS NULL then 1 ELSE 0 END) AS wage,\n",
        "    SUM(case when hire_date IS NULL then 1 ELSE 0 END) AS hire_date\n",
        "  FROM employees\n",
        "''')\n",
        "\n",
        "results = c.fetchall()\n",
        "\n",
        "for result in results:\n",
        "  print(result)"
      ],
      "metadata": {
        "id": "Y3wRCIKnTujZ",
        "colab": {
          "base_uri": "https://localhost:8080/"
        },
        "outputId": "e9d8c26b-03a2-4581-b922-27d2bde7e767"
      },
      "execution_count": 65,
      "outputs": [
        {
          "output_type": "stream",
          "name": "stdout",
          "text": [
            "(1, 0, 0, 2, 0, 0, 0)\n"
          ]
        }
      ]
    },
    {
      "cell_type": "markdown",
      "source": [
        "## Selecting rows having `NULL` value for a particular column"
      ],
      "metadata": {
        "id": "ODzcmLKprzwz"
      }
    },
    {
      "cell_type": "code",
      "source": [
        "c.execute('''\n",
        "  SELECT *\n",
        "  FROM employees\n",
        "  WHERE title IS NULL\n",
        "''')\n",
        "\n",
        "results = c.fetchall()\n",
        "\n",
        "for result in results:\n",
        "  print(result)"
      ],
      "metadata": {
        "id": "W0-fhTpISScC",
        "colab": {
          "base_uri": "https://localhost:8080/"
        },
        "outputId": "3b0808ca-9081-4a4f-acab-162f07aad9de"
      },
      "execution_count": 66,
      "outputs": [
        {
          "output_type": "stream",
          "name": "stdout",
          "text": [
            "(3, 'Bill', 'Sadat', None, 18, 12, '2019-11-08')\n",
            "(4, 'Christine', 'Riveles', None, 36, 20, '2018-03-30')\n"
          ]
        }
      ]
    },
    {
      "cell_type": "markdown",
      "source": [
        "## Selecting rows having `NULL` value for any of the columns"
      ],
      "metadata": {
        "id": "iQOAFw_lvNQ-"
      }
    },
    {
      "cell_type": "code",
      "source": [
        "c.execute('''\n",
        "  SELECT *\n",
        "  FROM employees\n",
        "  WHERE (id || f_name || l_name || title || age || wage || hire_date) IS NULL\n",
        "''')\n",
        "\n",
        "results = c.fetchall()\n",
        "\n",
        "for result in results:\n",
        "  print(result)"
      ],
      "metadata": {
        "colab": {
          "base_uri": "https://localhost:8080/"
        },
        "id": "hozU_mmCvTPu",
        "outputId": "156b3254-21c5-477a-f70e-2547dc2b07fd"
      },
      "execution_count": 67,
      "outputs": [
        {
          "output_type": "stream",
          "name": "stdout",
          "text": [
            "(3, 'Bill', 'Sadat', None, 18, 12, '2019-11-08')\n",
            "(4, 'Christine', 'Riveles', None, 36, 20, '2018-03-30')\n",
            "(None, 'David', 'Guerin', 'Honorable', 36, 20, '2018-03-30')\n"
          ]
        }
      ]
    },
    {
      "cell_type": "markdown",
      "source": [
        "## Deleting rows where column value is null"
      ],
      "metadata": {
        "id": "hrZSI2wvZF1a"
      }
    },
    {
      "cell_type": "code",
      "source": [
        "c.execute('''\n",
        "  DELETE FROM employees WHERE id IS NULL\n",
        "''')"
      ],
      "metadata": {
        "colab": {
          "base_uri": "https://localhost:8080/"
        },
        "id": "tiRds5YGc1e1",
        "outputId": "b539906e-772c-4c7a-909e-2b81b396cbe4"
      },
      "execution_count": 68,
      "outputs": [
        {
          "output_type": "execute_result",
          "data": {
            "text/plain": [
              "<sqlite3.Cursor at 0x7fda7310a340>"
            ]
          },
          "metadata": {},
          "execution_count": 68
        }
      ]
    },
    {
      "cell_type": "markdown",
      "source": [
        "## Dropping a column when all rows have null for that column"
      ],
      "metadata": {
        "id": "4xG1pqQKe4jj"
      }
    },
    {
      "cell_type": "code",
      "source": [
        "# If all null\n",
        "\n",
        "c.execute('''SELECT id FROM employees GROUP BY id''')\n",
        "\n",
        "results = c.fetchall()\n",
        "\n",
        "for result in results:\n",
        "  print(result)"
      ],
      "metadata": {
        "colab": {
          "base_uri": "https://localhost:8080/"
        },
        "id": "ULbzn0mJgBFN",
        "outputId": "d99b6829-eb95-4a6d-e58f-0895b0d015b0"
      },
      "execution_count": 72,
      "outputs": [
        {
          "output_type": "stream",
          "name": "stdout",
          "text": [
            "(1,)\n",
            "(2,)\n",
            "(3,)\n",
            "(4,)\n",
            "(5,)\n"
          ]
        }
      ]
    },
    {
      "cell_type": "code",
      "source": [
        "# If all null\n",
        "\n",
        "c.execute('''SELECT DISTINCT id FROM employees''')\n",
        "\n",
        "results = c.fetchall()\n",
        "\n",
        "for result in results:\n",
        "  print(result)"
      ],
      "metadata": {
        "colab": {
          "base_uri": "https://localhost:8080/"
        },
        "id": "obLqUAD3rn7U",
        "outputId": "76ad17cf-c014-413a-fe68-cf8817ce9d1d"
      },
      "execution_count": 73,
      "outputs": [
        {
          "output_type": "stream",
          "name": "stdout",
          "text": [
            "(1,)\n",
            "(2,)\n",
            "(3,)\n",
            "(4,)\n",
            "(5,)\n"
          ]
        }
      ]
    },
    {
      "cell_type": "code",
      "source": [
        "# If zero (0)\n",
        "\n",
        "c.execute('''SELECT count(id) FROM employees WHERE id IS NOT NULL''')\n",
        "\n",
        "results = c.fetchall()\n",
        "\n",
        "for result in results:\n",
        "  print(result)"
      ],
      "metadata": {
        "colab": {
          "base_uri": "https://localhost:8080/"
        },
        "id": "hXXKacj0rwxM",
        "outputId": "3f681f0f-7c64-4330-cd07-dc8095f2bff9"
      },
      "execution_count": 74,
      "outputs": [
        {
          "output_type": "stream",
          "name": "stdout",
          "text": [
            "(5,)\n"
          ]
        }
      ]
    },
    {
      "cell_type": "code",
      "source": [
        "#  if you only get back just NULL (or 0 for that last one)\n",
        "\n",
        "c.execute('''alter table employees drop column id''')"
      ],
      "metadata": {
        "id": "kKV2Eq0nrYXu"
      },
      "execution_count": null,
      "outputs": []
    },
    {
      "cell_type": "markdown",
      "source": [
        "## Replace `NULL` values with a sentinel (standard value)"
      ],
      "metadata": {
        "id": "puYmS4nwsOW1"
      }
    },
    {
      "cell_type": "code",
      "source": [
        "c.execute('''\n",
        "  SELECT \n",
        "    f_name,\n",
        "    l_name,\n",
        "    CASE WHEN title IS NULL THEN 'Honorable' ELSE title END AS NewTitle\n",
        "  FROM employees\n",
        "''')\n",
        "\n",
        "results = c.fetchall()\n",
        "\n",
        "for result in results:\n",
        "  print(result)"
      ],
      "metadata": {
        "id": "NeCs7f85eKur",
        "colab": {
          "base_uri": "https://localhost:8080/"
        },
        "outputId": "f94a5db6-020e-47cf-ad4a-546a317a7fff"
      },
      "execution_count": 75,
      "outputs": [
        {
          "output_type": "stream",
          "name": "stdout",
          "text": [
            "('kavishka', 'tim', 'Mr')\n",
            "('Bill', 'Tibb', 'Mr')\n",
            "('Bill', 'Sadat', 'Honorable')\n",
            "('Christine', 'Riveles', 'Honorable')\n",
            "('David', 'Guerin', 'Honorable')\n"
          ]
        }
      ]
    },
    {
      "cell_type": "markdown",
      "source": [
        "# **Advance NULL values handling**"
      ],
      "metadata": {
        "id": "xEytkC3210QG"
      }
    },
    {
      "cell_type": "markdown",
      "source": [
        "## Replace by an statistical technique such as mean, median, or mode"
      ],
      "metadata": {
        "id": "DrisqPpa16GP"
      }
    },
    {
      "cell_type": "code",
      "source": [
        "# dropping an existing table\n",
        "c.execute(\"DROP TABLE IF EXISTS house_price\")\n",
        "\n",
        "# create table\n",
        "c.execute('''\n",
        "  CREATE TABLE house_price(\n",
        "    id INT,\n",
        "    country VARCHAR(50),\n",
        "    city VARCHAR(50),\n",
        "    price DOUBLE,\n",
        "    a DOUBLE,\n",
        "    b DOUBLE,\n",
        "    c DOUBLE\n",
        "  )\n",
        "''')\n",
        "\n",
        "house_price = [(1, 'USA', 'LA', 1000000.00, 1, 3, 5), \n",
        "             (2, 'UK', 'London', 400000.00, None, 5, 7), \n",
        "             (3, 'USA', 'LA', 850000.00, 9, None, None),\n",
        "             (4, 'USA', 'LA', None, 12, 4, 9),\n",
        "             (5, 'USA', 'LA', 900000.00, 2, 6, 1),\n",
        "             (6, 'UK', 'London', 550000.00, None, 4, 8),\n",
        "             (7, 'USA', 'LA', 1000000.00, 8, 8, 8), \n",
        "             (8, 'UK', 'London', 400000.00, 1, 4, 9), \n",
        "             (9, 'USA', 'LA', 850000.00, 4, 4, 5),\n",
        "             (10, 'USA', 'LA', 1050000.00, None, None, None),\n",
        "             (11, 'USA', 'LA', 900000.00, 3, 8.5, 9),\n",
        "             (12, 'UK', 'London', None, 10, 7, None)]\n",
        "\n",
        "c.executemany(\"INSERT INTO house_price VALUES (?,?,?,?,?,?,?)\", house_price)\n",
        "\n",
        "c.execute('SELECT * FROM house_price')\n",
        "\n",
        "results = c.fetchall()\n",
        "\n",
        "for result in results:\n",
        "  print(result)\n"
      ],
      "metadata": {
        "colab": {
          "base_uri": "https://localhost:8080/"
        },
        "id": "I4L3J5Br13UX",
        "outputId": "115d1c9f-822c-4d46-e847-b9a8d4491c4b"
      },
      "execution_count": 54,
      "outputs": [
        {
          "output_type": "stream",
          "name": "stdout",
          "text": [
            "(1, 'USA', 'LA', 1000000.0, 1.0, 3.0, 5.0)\n",
            "(2, 'UK', 'London', 400000.0, None, 5.0, 7.0)\n",
            "(3, 'USA', 'LA', 850000.0, 9.0, None, None)\n",
            "(4, 'USA', 'LA', None, 12.0, 4.0, 9.0)\n",
            "(5, 'USA', 'LA', 900000.0, 2.0, 6.0, 1.0)\n",
            "(6, 'UK', 'London', 550000.0, None, 4.0, 8.0)\n",
            "(7, 'USA', 'LA', 1000000.0, 8.0, 8.0, 8.0)\n",
            "(8, 'UK', 'London', 400000.0, 1.0, 4.0, 9.0)\n",
            "(9, 'USA', 'LA', 850000.0, 4.0, 4.0, 5.0)\n",
            "(10, 'USA', 'LA', 1050000.0, None, None, None)\n",
            "(11, 'USA', 'LA', 900000.0, 3.0, 8.5, 9.0)\n",
            "(12, 'UK', 'London', None, 10.0, 7.0, None)\n"
          ]
        }
      ]
    },
    {
      "cell_type": "code",
      "source": [
        "c.execute('''\n",
        "  SELECT \n",
        "    h.country, \n",
        "    h.city,\n",
        "    COALESCE(h.price, n.newprice) AS price_new\n",
        "  FROM house_price h, (SELECT s.city, AVG(s.price) AS newprice\n",
        "        FROM house_price s\n",
        "        GROUP BY s.city) n\n",
        "  WHERE h.city = n.city\n",
        "''')\n",
        "\n",
        "results = c.fetchall()\n",
        "\n",
        "for result in results:\n",
        "  print(result)"
      ],
      "metadata": {
        "colab": {
          "base_uri": "https://localhost:8080/"
        },
        "id": "I5ftJHRi5hEE",
        "outputId": "b5d86cdc-e828-41a4-f982-7610db198de1"
      },
      "execution_count": 55,
      "outputs": [
        {
          "output_type": "stream",
          "name": "stdout",
          "text": [
            "('USA', 'LA', 1000000.0)\n",
            "('UK', 'London', 400000.0)\n",
            "('USA', 'LA', 850000.0)\n",
            "('USA', 'LA', 935714.2857142857)\n",
            "('USA', 'LA', 900000.0)\n",
            "('UK', 'London', 550000.0)\n",
            "('USA', 'LA', 1000000.0)\n",
            "('UK', 'London', 400000.0)\n",
            "('USA', 'LA', 850000.0)\n",
            "('USA', 'LA', 1050000.0)\n",
            "('USA', 'LA', 900000.0)\n",
            "('UK', 'London', 450000.0)\n"
          ]
        }
      ]
    },
    {
      "cell_type": "markdown",
      "source": [
        "`Note: Instead of AVG(), use functions such as MAX(), MIN() as necessary`"
      ],
      "metadata": {
        "id": "5RhwqEhbHhA9"
      }
    },
    {
      "cell_type": "code",
      "source": [],
      "metadata": {
        "id": "nHgq2FuzVcSX"
      },
      "execution_count": null,
      "outputs": []
    }
  ]
}