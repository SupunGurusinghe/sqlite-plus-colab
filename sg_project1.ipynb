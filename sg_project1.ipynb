{
  "nbformat": 4,
  "nbformat_minor": 0,
  "metadata": {
    "colab": {
      "provenance": [],
      "collapsed_sections": [],
      "authorship_tag": "ABX9TyPIDbzkMkD6fJeU/X//Dxs7",
      "include_colab_link": true
    },
    "kernelspec": {
      "name": "python3",
      "display_name": "Python 3"
    },
    "language_info": {
      "name": "python"
    }
  },
  "cells": [
    {
      "cell_type": "markdown",
      "metadata": {
        "id": "view-in-github",
        "colab_type": "text"
      },
      "source": [
        "<a href=\"https://colab.research.google.com/github/SupunGurusinghe/sqlite-plus-colab/blob/main/sg_project1.ipynb\" target=\"_parent\"><img src=\"https://colab.research.google.com/assets/colab-badge.svg\" alt=\"Open In Colab\"/></a>"
      ]
    },
    {
      "cell_type": "markdown",
      "source": [
        "#### The core ways to handle missing values should be familiar to all data scientists, a phrase which here means ‘if you aren’t familiar, you should memorise the following list’:\n",
        "\n",
        "\n",
        "1. **Listwise deletion:** if a variable has so many missing cases that it appears useless, delete it.\n",
        "\n",
        "2. **Casewise deletion:** if there are too many factors missing for a particular observation, delete it.\n",
        "\n",
        "3. **Dummy Variable Adjustment:** if the variable is missing for a particular case, use an assumed value in its stead. Depending on the problem the median may appear the intuitive choice or a value that represents a ‘neutral’ setting.\n",
        "\n",
        "4. **Imputation:** use an algorithm to fill in the value, from a simple random number at the most basic end of the spectrum, to a value imputed by its own model at the more complex end.\n",
        "\n"
      ],
      "metadata": {
        "id": "QHe8CnXdinuv"
      }
    },
    {
      "cell_type": "markdown",
      "source": [
        "## Imports"
      ],
      "metadata": {
        "id": "RrcDyUF-FDb4"
      }
    },
    {
      "cell_type": "code",
      "execution_count": 32,
      "metadata": {
        "id": "1VDtEJCWMyPz"
      },
      "outputs": [],
      "source": [
        "import pandas as pd\n",
        "from sqlite3 import connect"
      ]
    },
    {
      "cell_type": "markdown",
      "source": [
        "## DB Connection"
      ],
      "metadata": {
        "id": "1z8n-KGzFIn0"
      }
    },
    {
      "cell_type": "code",
      "source": [
        "conn = connect('test.db')"
      ],
      "metadata": {
        "id": "yjLNjP9I2H-Z"
      },
      "execution_count": 33,
      "outputs": []
    },
    {
      "cell_type": "markdown",
      "source": [
        "# **Basic NULL values handling**"
      ],
      "metadata": {
        "id": "xRBXsSZx1lNW"
      }
    },
    {
      "cell_type": "markdown",
      "source": [
        "## SQLite Creating a table"
      ],
      "metadata": {
        "id": "oklS44PYFN_S"
      }
    },
    {
      "cell_type": "markdown",
      "source": [
        "* employees : Table name\n",
        "* id : employee id (primary key)\n",
        "* f_name : first name of employee\n",
        "* l_name : last name of employee\n",
        "* title : title of employee\n",
        "* NIC : national id number of employee (unique)"
      ],
      "metadata": {
        "id": "vcLa8yFzSht-"
      }
    },
    {
      "cell_type": "code",
      "source": [
        "c = conn.cursor()\n",
        "\n",
        "# dropping an existing table\n",
        "c.execute(\"DROP TABLE IF EXISTS employees\")\n",
        "\n",
        "# create table\n",
        "c.execute('''\n",
        "  CREATE TABLE employees(\n",
        "    id INT,\n",
        "    f_name VARCHAR(50),\n",
        "    l_name VARCHAR(50),\n",
        "    title VARCHAR(10),\n",
        "    age INT,\n",
        "    wage INT,\n",
        "    hire_date DATE,\n",
        "    NIC VARCHAR(12)\n",
        "  )\n",
        "''')\n",
        "\n",
        "employees = [(1, 'kavishka', 'tim', 'Mr', 22, 28, '2022-05-01', '200005303420'), \n",
        "             (1, 'Bill', 'Tibb', 'Mr', 61, 28, '2012-05-02', '900239889v'), \n",
        "             (3, 'Bill', 'Sadat', None, 18, 12, '2019-11-08', '640239889v'),\n",
        "             (4, 'Christine', 'Riveles', None, 36, 20, '2018-03-30', '200014303420'),\n",
        "             (5, 'David', 'Guerin', 'Honorable', 36, 20, '2018-03-30', '123456789v'),\n",
        "             (6, 'David', 'Guerin', 'Honorable', 36, 20, '2018-03-30', '123456789v'),\n",
        "             (None, 'David', 'Guerin', 'Honorable', 36, 20, '2018-03-30', '124097654988')]\n",
        "\n",
        "c.executemany(\"INSERT INTO employees VALUES (?,?,?,?,?,?,?,?)\", employees)\n",
        "\n",
        "c.execute('SELECT * FROM employees')\n",
        "\n",
        "results = c.fetchall()\n",
        "\n",
        "for result in results:\n",
        "  print(result)\n",
        "\n",
        "c.close()"
      ],
      "metadata": {
        "colab": {
          "base_uri": "https://localhost:8080/"
        },
        "id": "ATp1vz7bFR7l",
        "outputId": "c27de475-3160-4e0e-8cfe-e40590717905"
      },
      "execution_count": 34,
      "outputs": [
        {
          "output_type": "stream",
          "name": "stdout",
          "text": [
            "(1, 'kavishka', 'tim', 'Mr', 22, 28, '2022-05-01', '200005303420')\n",
            "(1, 'Bill', 'Tibb', 'Mr', 61, 28, '2012-05-02', '900239889v')\n",
            "(3, 'Bill', 'Sadat', None, 18, 12, '2019-11-08', '640239889v')\n",
            "(4, 'Christine', 'Riveles', None, 36, 20, '2018-03-30', '200014303420')\n",
            "(5, 'David', 'Guerin', 'Honorable', 36, 20, '2018-03-30', '123456789v')\n",
            "(6, 'David', 'Guerin', 'Honorable', 36, 20, '2018-03-30', '123456789v')\n",
            "(None, 'David', 'Guerin', 'Honorable', 36, 20, '2018-03-30', '124097654988')\n"
          ]
        }
      ]
    },
    {
      "cell_type": "markdown",
      "source": [
        "\n",
        "\n",
        "---\n",
        "\n"
      ],
      "metadata": {
        "id": "HzTd87QSyB71"
      }
    },
    {
      "cell_type": "markdown",
      "source": [
        "## Identify `NULL` values"
      ],
      "metadata": {
        "id": "z4sjDm5uTvry"
      }
    },
    {
      "cell_type": "markdown",
      "source": [
        "Add 1 for the column if null value appears."
      ],
      "metadata": {
        "id": "1rq5gVnLjMkg"
      }
    },
    {
      "cell_type": "code",
      "source": [
        "c = conn.cursor()\n",
        "\n",
        "c.execute('''\n",
        "  SELECT \n",
        "    SUM(CASE WHEN id IS NULL THEN 1 ELSE 0 END) AS id ,\n",
        "    SUM(CASE WHEN f_name IS NULL THEN 1 ELSE 0 END) AS f_name,\n",
        "    SUM(CASE WHEN l_name IS NULL THEN 1 ELSE 0 END) AS l_name,\n",
        "    SUM(CASE WHEN title IS NULL THEN 1 ELSE 0 END) AS title,\n",
        "    SUM(CASE WHEN age IS NULL THEN 1 ELSE 0 END) AS age,\n",
        "    SUM(CASE WHEN wage IS NULL THEN 1 ELSE 0 END) AS wage,\n",
        "    SUM(CASE WHEN hire_date IS NULL THEN 1 ELSE 0 END) AS hire_date\n",
        "  FROM employees\n",
        "''')\n",
        "\n",
        "results = c.fetchall()\n",
        "\n",
        "for result in results:\n",
        "  print(result)\n",
        "\n",
        "c.close()"
      ],
      "metadata": {
        "id": "Y3wRCIKnTujZ",
        "colab": {
          "base_uri": "https://localhost:8080/"
        },
        "outputId": "057861f8-0b52-4822-c88e-2a90690b49fa"
      },
      "execution_count": 102,
      "outputs": [
        {
          "output_type": "stream",
          "name": "stdout",
          "text": [
            "(1, 0, 0, 2, 0, 0, 0)\n"
          ]
        }
      ]
    },
    {
      "cell_type": "markdown",
      "source": [
        "## Selecting rows having `NULL` value for a particular column"
      ],
      "metadata": {
        "id": "ODzcmLKprzwz"
      }
    },
    {
      "cell_type": "code",
      "source": [
        "c = conn.cursor()\n",
        "\n",
        "c.execute('''\n",
        "  SELECT *\n",
        "  FROM employees\n",
        "  WHERE title IS NULL\n",
        "''')\n",
        "\n",
        "results = c.fetchall()\n",
        "\n",
        "for result in results:\n",
        "  print(result)\n",
        "\n",
        "c.close()"
      ],
      "metadata": {
        "id": "W0-fhTpISScC",
        "colab": {
          "base_uri": "https://localhost:8080/"
        },
        "outputId": "0139a164-a5a5-4241-f9a3-fee10a4ad63e"
      },
      "execution_count": 103,
      "outputs": [
        {
          "output_type": "stream",
          "name": "stdout",
          "text": [
            "(3, 'Bill', 'Sadat', None, 18, 12, '2019-11-08')\n",
            "(4, 'Christine', 'Riveles', None, 36, 20, '2018-03-30')\n"
          ]
        }
      ]
    },
    {
      "cell_type": "markdown",
      "source": [
        "## Selecting rows having `NULL` value for any of the columns"
      ],
      "metadata": {
        "id": "iQOAFw_lvNQ-"
      }
    },
    {
      "cell_type": "code",
      "source": [
        "c = conn.cursor()\n",
        "\n",
        "c.execute('''\n",
        "  SELECT *\n",
        "  FROM employees\n",
        "  WHERE (id || f_name || l_name || title || age || wage || hire_date) IS NULL\n",
        "''')\n",
        "\n",
        "results = c.fetchall()\n",
        "\n",
        "for result in results:\n",
        "  print(result)\n",
        "\n",
        "c.close()"
      ],
      "metadata": {
        "colab": {
          "base_uri": "https://localhost:8080/"
        },
        "id": "hozU_mmCvTPu",
        "outputId": "3502b645-6c42-4bf3-cff2-3bcb75428c6e"
      },
      "execution_count": 104,
      "outputs": [
        {
          "output_type": "stream",
          "name": "stdout",
          "text": [
            "(3, 'Bill', 'Sadat', None, 18, 12, '2019-11-08')\n",
            "(4, 'Christine', 'Riveles', None, 36, 20, '2018-03-30')\n",
            "(None, 'David', 'Guerin', 'Honorable', 36, 20, '2018-03-30')\n"
          ]
        }
      ]
    },
    {
      "cell_type": "markdown",
      "source": [
        "\n",
        "\n",
        "---"
      ],
      "metadata": {
        "id": "hPw6JhGik_cO"
      }
    },
    {
      "cell_type": "markdown",
      "source": [
        "1. There are many missing values (NULLs) of a column, but the columns \n",
        "itself is not of interest from analysis point of view\n",
        "\n",
        "2. There may be no missing value of a column, but it is excluded from the analysis we are preparing the Dataset for\n",
        "\n",
        "3. There may be very few missing values of column, but dropping the field (column) is better than replacing those values\n",
        "\n"
      ],
      "metadata": {
        "id": "j95ijtFUkd7a"
      }
    },
    {
      "cell_type": "markdown",
      "source": [
        "## Deleting rows where column value is `NULL`"
      ],
      "metadata": {
        "id": "hrZSI2wvZF1a"
      }
    },
    {
      "cell_type": "code",
      "source": [
        "c = conn.cursor()\n",
        "\n",
        "c.execute('''\n",
        "  DELETE FROM employees WHERE id IS NULL\n",
        "''')\n",
        "\n",
        "c.close()"
      ],
      "metadata": {
        "id": "tiRds5YGc1e1"
      },
      "execution_count": 35,
      "outputs": []
    },
    {
      "cell_type": "markdown",
      "source": [
        "## Dropping a column when all rows have `NULL` for that column"
      ],
      "metadata": {
        "id": "4xG1pqQKe4jj"
      }
    },
    {
      "cell_type": "code",
      "source": [
        "# If all null\n",
        "c = conn.cursor()\n",
        "\n",
        "c.execute('''SELECT id FROM employees GROUP BY id''')\n",
        "\n",
        "results = c.fetchall()\n",
        "\n",
        "for result in results:\n",
        "  print(result)\n",
        "\n",
        "c.close()"
      ],
      "metadata": {
        "colab": {
          "base_uri": "https://localhost:8080/"
        },
        "id": "ULbzn0mJgBFN",
        "outputId": "82d612ac-f275-4820-f09f-7fc05b3a7d55"
      },
      "execution_count": 5,
      "outputs": [
        {
          "output_type": "stream",
          "name": "stdout",
          "text": [
            "(None,)\n",
            "(1,)\n",
            "(3,)\n",
            "(4,)\n",
            "(5,)\n"
          ]
        }
      ]
    },
    {
      "cell_type": "code",
      "source": [
        "# If all null\n",
        "c = conn.cursor()\n",
        "\n",
        "c.execute('''SELECT DISTINCT id FROM employees''')\n",
        "\n",
        "results = c.fetchall()\n",
        "\n",
        "for result in results:\n",
        "  print(result)\n",
        "\n",
        "c.close()"
      ],
      "metadata": {
        "colab": {
          "base_uri": "https://localhost:8080/"
        },
        "id": "obLqUAD3rn7U",
        "outputId": "3a3f62ed-90f6-4b88-ed1e-cfd46da6c90e"
      },
      "execution_count": 107,
      "outputs": [
        {
          "output_type": "stream",
          "name": "stdout",
          "text": [
            "(1,)\n",
            "(2,)\n",
            "(3,)\n",
            "(4,)\n",
            "(5,)\n"
          ]
        }
      ]
    },
    {
      "cell_type": "code",
      "source": [
        "# If zero (0)\n",
        "c = conn.cursor()\n",
        "\n",
        "c.execute('''SELECT count(id) FROM employees WHERE id IS NOT NULL''')\n",
        "\n",
        "results = c.fetchall()\n",
        "\n",
        "for result in results:\n",
        "  print(result)\n",
        "\n",
        "c.close()"
      ],
      "metadata": {
        "colab": {
          "base_uri": "https://localhost:8080/"
        },
        "id": "hXXKacj0rwxM",
        "outputId": "9dc5d640-2563-4369-962c-25c05de13fe6"
      },
      "execution_count": 108,
      "outputs": [
        {
          "output_type": "stream",
          "name": "stdout",
          "text": [
            "(5,)\n"
          ]
        }
      ]
    },
    {
      "cell_type": "code",
      "source": [
        "#  if you only get back just NULL (or 0 for that last one)\n",
        "c = conn.cursor()\n",
        "\n",
        "c.execute('''CREATE TEMPORARY TABLE t1_backup(f_name, l_name, title, age, wage, hire_date)''')\n",
        "c.execute('''INSERT INTO t1_backup SELECT f_name, l_name, title, age, wage, hire_date FROM employees''')\n",
        "c.execute('''DROP TABLE employees''')\n",
        "c.execute('''CREATE TABLE employees(f_name, l_name, title, age, wage, hire_date)''')\n",
        "c.execute('''INSERT INTO employees SELECT f_name, l_name, title, age, wage, hire_date FROM t1_backup''')\n",
        "c.execute('''DROP TABLE t1_backup''')\n",
        "\n",
        "c.execute('''\n",
        "  SELECT *\n",
        "  FROM employees\n",
        "''')\n",
        "results = c.fetchall()\n",
        "\n",
        "for result in results:\n",
        "  print(result)\n",
        "\n",
        "c.close()"
      ],
      "metadata": {
        "id": "kKV2Eq0nrYXu",
        "colab": {
          "base_uri": "https://localhost:8080/"
        },
        "outputId": "ba1d7746-b6d4-4458-b3e5-f9943efbc7d7"
      },
      "execution_count": 121,
      "outputs": [
        {
          "output_type": "stream",
          "name": "stdout",
          "text": [
            "('kavishka', 'tim', 'Mr', 22, 28, '2022-05-01')\n",
            "('Bill', 'Tibb', 'Mr', 61, 28, '2012-05-02')\n",
            "('Bill', 'Sadat', None, 18, 12, '2019-11-08')\n",
            "('Christine', 'Riveles', None, 36, 20, '2018-03-30')\n",
            "('David', 'Guerin', 'Honorable', 36, 20, '2018-03-30')\n",
            "('David', 'Guerin', 'Honorable', 36, 20, '2018-03-30')\n"
          ]
        }
      ]
    },
    {
      "cell_type": "markdown",
      "source": [
        "## Replace `NULL` values with a sentinel (standard value)"
      ],
      "metadata": {
        "id": "puYmS4nwsOW1"
      }
    },
    {
      "cell_type": "code",
      "source": [
        "c = conn.cursor()\n",
        "\n",
        "c.execute('''\n",
        "  SELECT \n",
        "    f_name,\n",
        "    l_name,\n",
        "    CASE WHEN title IS NULL THEN 'Honorable' ELSE title END AS NewTitle\n",
        "  FROM employees\n",
        "''')\n",
        "\n",
        "results = c.fetchall()\n",
        "\n",
        "for result in results:\n",
        "  print(result)\n",
        "\n",
        "c.close()"
      ],
      "metadata": {
        "id": "NeCs7f85eKur",
        "colab": {
          "base_uri": "https://localhost:8080/"
        },
        "outputId": "132e6fce-39c0-468b-f1a3-63b2cd3e0067"
      },
      "execution_count": 122,
      "outputs": [
        {
          "output_type": "stream",
          "name": "stdout",
          "text": [
            "('kavishka', 'tim', 'Mr')\n",
            "('Bill', 'Tibb', 'Mr')\n",
            "('Bill', 'Sadat', 'Honorable')\n",
            "('Christine', 'Riveles', 'Honorable')\n",
            "('David', 'Guerin', 'Honorable')\n",
            "('David', 'Guerin', 'Honorable')\n"
          ]
        }
      ]
    },
    {
      "cell_type": "markdown",
      "source": [
        "# **Advance `NULL` values handling**"
      ],
      "metadata": {
        "id": "xEytkC3210QG"
      }
    },
    {
      "cell_type": "markdown",
      "source": [
        "## Replace by an statistical technique such as mean\n",
        "\n",
        "Let us now discuss another form of data wrangling by imputing (replacing) missing values with the help of Mean Method to improve the data quality.  This method requires us to calculate statistical mean value of the series of the dataset to impute (replace) missing values."
      ],
      "metadata": {
        "id": "DrisqPpa16GP"
      }
    },
    {
      "cell_type": "code",
      "source": [
        "c = conn.cursor()\n",
        "\n",
        "# dropping an existing table\n",
        "c.execute(\"DROP TABLE IF EXISTS house_price\")\n",
        "\n",
        "# create table\n",
        "c.execute('''\n",
        "  CREATE TABLE house_price(\n",
        "    id INT,\n",
        "    country VARCHAR(50),\n",
        "    city VARCHAR(50),\n",
        "    price DOUBLE,\n",
        "    a DOUBLE,\n",
        "    b DOUBLE,\n",
        "    c DOUBLE\n",
        "  )\n",
        "''')\n",
        "\n",
        "house_price = [(1, 'USA', 'LA', 1000000.00, 1, 3, 5), \n",
        "             (2, 'UK', 'London', 400000.00, None, 5, 7), \n",
        "             (3, 'USA', 'LA', 850000.00, 9, None, None),\n",
        "             (4, 'USA', 'LA', None, 12, 4, 9),\n",
        "             (5, 'USA', 'LA', 900000.00, 2, 6, 1),\n",
        "             (6, 'UK', 'London', 550000.00, None, 4, 8),\n",
        "             (7, 'USA', 'LA', 1000000.00, 8, 8, 8), \n",
        "             (8, 'UK', 'London', 400000.00, 1, 4, 9), \n",
        "             (9, 'USA', 'LA', 850000.00, 4, 4, 5),\n",
        "             (10, 'USA', 'LA', 1050000.00, None, None, None),\n",
        "             (11, 'USA', 'LA', 900000.00, 3, 8.5, 9),\n",
        "             (12, 'UK', 'London', None, 10, 7, None)]\n",
        "\n",
        "c.executemany(\"INSERT INTO house_price VALUES (?,?,?,?,?,?,?)\", house_price)\n",
        "\n",
        "c.execute('SELECT * FROM house_price')\n",
        "\n",
        "results = c.fetchall()\n",
        "\n",
        "for result in results:\n",
        "  print(result)\n",
        "\n",
        "c.close()"
      ],
      "metadata": {
        "colab": {
          "base_uri": "https://localhost:8080/"
        },
        "id": "I4L3J5Br13UX",
        "outputId": "1a145406-c173-469e-b7a0-ac5e3a77853a"
      },
      "execution_count": 123,
      "outputs": [
        {
          "output_type": "stream",
          "name": "stdout",
          "text": [
            "(1, 'USA', 'LA', 1000000.0, 1.0, 3.0, 5.0)\n",
            "(2, 'UK', 'London', 400000.0, None, 5.0, 7.0)\n",
            "(3, 'USA', 'LA', 850000.0, 9.0, None, None)\n",
            "(4, 'USA', 'LA', None, 12.0, 4.0, 9.0)\n",
            "(5, 'USA', 'LA', 900000.0, 2.0, 6.0, 1.0)\n",
            "(6, 'UK', 'London', 550000.0, None, 4.0, 8.0)\n",
            "(7, 'USA', 'LA', 1000000.0, 8.0, 8.0, 8.0)\n",
            "(8, 'UK', 'London', 400000.0, 1.0, 4.0, 9.0)\n",
            "(9, 'USA', 'LA', 850000.0, 4.0, 4.0, 5.0)\n",
            "(10, 'USA', 'LA', 1050000.0, None, None, None)\n",
            "(11, 'USA', 'LA', 900000.0, 3.0, 8.5, 9.0)\n",
            "(12, 'UK', 'London', None, 10.0, 7.0, None)\n"
          ]
        }
      ]
    },
    {
      "cell_type": "code",
      "source": [
        "c = conn.cursor()\n",
        "\n",
        "c.execute('''\n",
        "  SELECT \n",
        "    h.country, \n",
        "    h.city,\n",
        "    COALESCE(h.price, n.newprice) AS price_new\n",
        "  FROM house_price h, (SELECT s.city, AVG(s.price) AS newprice\n",
        "        FROM house_price s\n",
        "        GROUP BY s.city) n\n",
        "  WHERE h.city = n.city\n",
        "''')\n",
        "\n",
        "results = c.fetchall()\n",
        "\n",
        "for result in results:\n",
        "  print(result)\n",
        "\n",
        "c.close()"
      ],
      "metadata": {
        "colab": {
          "base_uri": "https://localhost:8080/"
        },
        "id": "I5ftJHRi5hEE",
        "outputId": "27b06d91-1684-4c8b-a892-5785025dd755"
      },
      "execution_count": 124,
      "outputs": [
        {
          "output_type": "stream",
          "name": "stdout",
          "text": [
            "('USA', 'LA', 1000000.0)\n",
            "('UK', 'London', 400000.0)\n",
            "('USA', 'LA', 850000.0)\n",
            "('USA', 'LA', 935714.2857142857)\n",
            "('USA', 'LA', 900000.0)\n",
            "('UK', 'London', 550000.0)\n",
            "('USA', 'LA', 1000000.0)\n",
            "('UK', 'London', 400000.0)\n",
            "('USA', 'LA', 850000.0)\n",
            "('USA', 'LA', 1050000.0)\n",
            "('USA', 'LA', 900000.0)\n",
            "('UK', 'London', 450000.0)\n"
          ]
        }
      ]
    },
    {
      "cell_type": "markdown",
      "source": [
        "`Note: Instead of AVG(), use functions such as MAX(), MIN() as necessary`"
      ],
      "metadata": {
        "id": "5RhwqEhbHhA9"
      }
    },
    {
      "cell_type": "markdown",
      "source": [
        "## Handling Missing Values in Time-series with SQL"
      ],
      "metadata": {
        "id": "9ECtmk_Xo1Qp"
      }
    },
    {
      "cell_type": "code",
      "source": [
        "c = conn.cursor()\n",
        "\n",
        "# dropping an existing table\n",
        "c.execute(\"DROP TABLE IF EXISTS hourly_machine_data\")\n",
        "\n",
        "# create table\n",
        "c.execute('''\n",
        "  CREATE TABLE hourly_machine_data(\n",
        "    Observation_datetime DATETIME,\n",
        "    Machine_ID INT,\n",
        "    Casing_Temperature_F INT,\n",
        "    Bearing_Temperature_F INT,\n",
        "    Flywheel_rpm INT,\n",
        "    alarm_status VARCHAR(15),\n",
        "    Flywheel_rpm_2 INT,\n",
        "    Filter_airflow DOUBLE,\n",
        "    TARGET_failure_in_next_90 INT\n",
        "  )\n",
        "''')\n",
        "\n",
        "hourly_machine_data = [('2022-01-01 1:00 AM',1,84,131,2374,'normal',2171,1.1,0),\n",
        "                ('2022-01-01 2:00 AM',1,None,132,1587,'normal',1877,1.5,0),\n",
        "                ('2022-01-01 3:00 AM',1,85,133,1206,'normal',1296,1.8,0),\n",
        "                ('2022-01-01 4:00 AM',1,None,None,2181,'normal',1879,2,0),\n",
        "                ('2022-01-01 5:00 AM',1,None,134,1271,'normal',2170,1.7,0),\n",
        "                ('2022-01-01 6:00 AM',1,None,None,1508,'normal',1556,1.3,0),\n",
        "                ('2022-01-01 7:00 AM',1,86,135,1298,'normal',1749,1.9,0),\n",
        "                ('2022-01-01 8:00 AM',1,87,None,1327,'normal',2058,None,0),\n",
        "                ('2022-01-01 9:00 AM',1,88,136,1978,'normal',1501,1.3,0),\n",
        "                ('2022-01-01 10:00 AM',1,None,None,2131,'normal',1952,1.4,0),\n",
        "                ('2022-01-01 11:00 AM',1,None,137,1611,'normal',2049,1,0),\n",
        "                ('2022-01-01 12:00 PM',1,89,None,1388,'normal',2400,2,0),\n",
        "                ('2022-01-01 1:00 PM',1,90,138,1596,'normal',1453,1.2,0),\n",
        "                ('2022-01-01 2:00 PM',1,91,None,1911,'warning',1680,None,0),\n",
        "                ('2022-01-01 3:00 PM',1,None,139,2368,'warning',1496,1,0),\n",
        "                ('2022-01-01 4:00 PM',1,None,None,2055,'warning',1574,1.2,0),\n",
        "                ('2022-01-01 5:00 PM',1,92,140,1961,'warning',2252,1.9,0),\n",
        "                ('2022-01-01 6:00 PM',1,93,None,2314,'warning',1860,2,0),\n",
        "                ('2022-01-01 7:00 PM',1,None,141,2046,'warning',2378,1.5,0),\n",
        "                ('2022-01-01 8:00 PM',1,92,None,1880,'warning',1364,1.2,0),\n",
        "                ('2022-01-01 9:00 PM',1,91,142,1289,'warning',2174,1.5,0),\n",
        "                ('2022-01-01 10:00 PM',1,90,141,1648,'normal',1928,1.9,0),\n",
        "                ('2022-01-01 11:00 PM',1,89,140,1225,'normal',2035,1.8,0),\n",
        "                ('2022-01-02 12:00 AM',1,88,139,1403,'normal',2139,1.1,0),\n",
        "                ('2022-01-02 1:00 AM',1,87,138,1381,'normal',1230,None,0),\n",
        "                ('2022-01-02 2:00 AM',1,86,137,1720,'normal',1203,1.6,0),\n",
        "                ('2022-01-02 3:00 AM',1,85,136,2392,'normal',2148,1.3,0),\n",
        "                ('2022-01-02 4:00 AM',1,84,135,1956,'normal',2073,1.2,0)]\n",
        "\n",
        "c.executemany(\"INSERT INTO hourly_machine_data VALUES (?,?,?,?,?,?,?,?,?)\", hourly_machine_data)\n",
        "\n",
        "c.execute('SELECT * FROM hourly_machine_data')\n",
        "\n",
        "results = c.fetchall()\n",
        "\n",
        "for result in results:\n",
        "  print(result)\n",
        "\n",
        "c.close()"
      ],
      "metadata": {
        "colab": {
          "base_uri": "https://localhost:8080/"
        },
        "id": "39ENbLKVo3IX",
        "outputId": "f7b134c0-0fb2-40df-eca7-594b18e76910"
      },
      "execution_count": 6,
      "outputs": [
        {
          "output_type": "stream",
          "name": "stdout",
          "text": [
            "('2022-01-01 1:00 AM', 1, 84, 131, 2374, 'normal', 2171, 1.1, 0)\n",
            "('2022-01-01 2:00 AM', 1, None, 132, 1587, 'normal', 1877, 1.5, 0)\n",
            "('2022-01-01 3:00 AM', 1, 85, 133, 1206, 'normal', 1296, 1.8, 0)\n",
            "('2022-01-01 4:00 AM', 1, None, None, 2181, 'normal', 1879, 2.0, 0)\n",
            "('2022-01-01 5:00 AM', 1, None, 134, 1271, 'normal', 2170, 1.7, 0)\n",
            "('2022-01-01 6:00 AM', 1, None, None, 1508, 'normal', 1556, 1.3, 0)\n",
            "('2022-01-01 7:00 AM', 1, 86, 135, 1298, 'normal', 1749, 1.9, 0)\n",
            "('2022-01-01 8:00 AM', 1, 87, None, 1327, 'normal', 2058, None, 0)\n",
            "('2022-01-01 9:00 AM', 1, 88, 136, 1978, 'normal', 1501, 1.3, 0)\n",
            "('2022-01-01 10:00 AM', 1, None, None, 2131, 'normal', 1952, 1.4, 0)\n",
            "('2022-01-01 11:00 AM', 1, None, 137, 1611, 'normal', 2049, 1.0, 0)\n",
            "('2022-01-01 12:00 PM', 1, 89, None, 1388, 'normal', 2400, 2.0, 0)\n",
            "('2022-01-01 1:00 PM', 1, 90, 138, 1596, 'normal', 1453, 1.2, 0)\n",
            "('2022-01-01 2:00 PM', 1, 91, None, 1911, 'warning', 1680, None, 0)\n",
            "('2022-01-01 3:00 PM', 1, None, 139, 2368, 'warning', 1496, 1.0, 0)\n",
            "('2022-01-01 4:00 PM', 1, None, None, 2055, 'warning', 1574, 1.2, 0)\n",
            "('2022-01-01 5:00 PM', 1, 92, 140, 1961, 'warning', 2252, 1.9, 0)\n",
            "('2022-01-01 6:00 PM', 1, 93, None, 2314, 'warning', 1860, 2.0, 0)\n",
            "('2022-01-01 7:00 PM', 1, None, 141, 2046, 'warning', 2378, 1.5, 0)\n",
            "('2022-01-01 8:00 PM', 1, 92, None, 1880, 'warning', 1364, 1.2, 0)\n",
            "('2022-01-01 9:00 PM', 1, 91, 142, 1289, 'warning', 2174, 1.5, 0)\n",
            "('2022-01-01 10:00 PM', 1, 90, 141, 1648, 'normal', 1928, 1.9, 0)\n",
            "('2022-01-01 11:00 PM', 1, 89, 140, 1225, 'normal', 2035, 1.8, 0)\n",
            "('2022-01-02 12:00 AM', 1, 88, 139, 1403, 'normal', 2139, 1.1, 0)\n",
            "('2022-01-02 1:00 AM', 1, 87, 138, 1381, 'normal', 1230, None, 0)\n",
            "('2022-01-02 2:00 AM', 1, 86, 137, 1720, 'normal', 1203, 1.6, 0)\n",
            "('2022-01-02 3:00 AM', 1, 85, 136, 2392, 'normal', 2148, 1.3, 0)\n",
            "('2022-01-02 4:00 AM', 1, 84, 135, 1956, 'normal', 2073, 1.2, 0)\n"
          ]
        }
      ]
    },
    {
      "cell_type": "code",
      "source": [
        "c = conn.cursor()\n",
        "\n",
        "c.execute('''\n",
        "SELECT \n",
        "  Machine_ID, \n",
        "  Observation_datetime, \n",
        "  LAST_VALUE(\n",
        "    CASING_TEMPERATURE_F ignore NULLS\n",
        "  ) OVER (\n",
        "    PARTITION BY MACHINE_ID \n",
        "    ORDER BY \n",
        "      OBSERVATION_DATETIME ROWS BETWEEN UNBOUNDED PRECEDING \n",
        "      AND CURRENT ROW\n",
        "  ) AS LATEST_CASING_TEMPERATURE_F, \n",
        "  LAST_VALUE(\n",
        "    BEARING_TEMPERATURE_F ignore NULLS\n",
        "  ) OVER (\n",
        "    PARTITION BY MACHINE_ID \n",
        "    ORDER BY \n",
        "      OBSERVATION_DATETIME ROWS BETWEEN UNBOUNDED PRECEDING \n",
        "      AND CURRENT ROW\n",
        "  ) AS LATEST_BEARING_TEMPERATURE_F, \n",
        "  LAST_VALUE(FLYWHEEL_RPM ignore NULLS) OVER (\n",
        "    PARTITION BY MACHINE_ID \n",
        "    ORDER BY \n",
        "      OBSERVATION_DATETIME ROWS BETWEEN UNBOUNDED PRECEDING \n",
        "      AND CURRENT ROW\n",
        "  ) AS LATEST_FLYWHEEL_RPM\n",
        "FROM hourly_machine_data\n",
        "''')\n",
        "\n",
        "results = c.fetchall()\n",
        "\n",
        "for result in results:\n",
        "  print(result)\n",
        "\n",
        "c.close()"
      ],
      "metadata": {
        "colab": {
          "base_uri": "https://localhost:8080/",
          "height": 235
        },
        "id": "ZbR7Bc__te-Y",
        "outputId": "5bf3a842-9bca-49be-e892-228fa6e514a1"
      },
      "execution_count": 8,
      "outputs": [
        {
          "output_type": "error",
          "ename": "OperationalError",
          "evalue": "ignored",
          "traceback": [
            "\u001b[0;31m---------------------------------------------------------------------------\u001b[0m",
            "\u001b[0;31mOperationalError\u001b[0m                          Traceback (most recent call last)",
            "\u001b[0;32m<ipython-input-8-93a35fc6cb13>\u001b[0m in \u001b[0;36m<module>\u001b[0;34m\u001b[0m\n\u001b[1;32m     28\u001b[0m   ) AS LATEST_FLYWHEEL_RPM\n\u001b[1;32m     29\u001b[0m \u001b[0mFROM\u001b[0m \u001b[0mhourly_machine_data\u001b[0m\u001b[0;34m\u001b[0m\u001b[0;34m\u001b[0m\u001b[0m\n\u001b[0;32m---> 30\u001b[0;31m ''')\n\u001b[0m\u001b[1;32m     31\u001b[0m \u001b[0;34m\u001b[0m\u001b[0m\n\u001b[1;32m     32\u001b[0m \u001b[0mresults\u001b[0m \u001b[0;34m=\u001b[0m \u001b[0mc\u001b[0m\u001b[0;34m.\u001b[0m\u001b[0mfetchall\u001b[0m\u001b[0;34m(\u001b[0m\u001b[0;34m)\u001b[0m\u001b[0;34m\u001b[0m\u001b[0;34m\u001b[0m\u001b[0m\n",
            "\u001b[0;31mOperationalError\u001b[0m: near \"ignore\": syntax error"
          ]
        }
      ]
    },
    {
      "cell_type": "code",
      "source": [
        "c = conn.cursor()\n",
        "\n",
        "c.execute('''\n",
        "SELECT \n",
        "  Machine_ID, \n",
        "  Observation_datetime, \n",
        "  LAST_VALUE(\n",
        "    COALESCE(Casing_Temperature_F)\n",
        "  ) OVER (\n",
        "    PARTITION BY Machine_ID \n",
        "    ORDER BY \n",
        "      Observation_datetime ROWS BETWEEN UNBOUNDED PRECEDING \n",
        "      AND CURRENT ROW\n",
        "  ) AS LATEST_CASING_TEMPERATURE_F, \n",
        "  LAST_VALUE(\n",
        "    COALESCE(Bearing_Temperature_F)\n",
        "  ) OVER (\n",
        "    PARTITION BY Machine_ID \n",
        "    ORDER BY \n",
        "      Observation_datetime ROWS BETWEEN UNBOUNDED PRECEDING \n",
        "      AND CURRENT ROW\n",
        "  ) AS LATEST_BEARING_TEMPERATURE_F, \n",
        "  LAST_VALUE(\n",
        "    COALESCE(Flywheel_rpm)\n",
        "    ) OVER (\n",
        "    PARTITION BY Machine_ID \n",
        "    ORDER BY \n",
        "      Observation_datetime ROWS BETWEEN UNBOUNDED PRECEDING \n",
        "      AND CURRENT ROW\n",
        "  ) AS LATEST_FLYWHEEL_RPM\n",
        "FROM hourly_machine_data\n",
        "''')\n",
        "\n",
        "results = c.fetchall()\n",
        "\n",
        "for result in results:\n",
        "  print(result)\n",
        "\n",
        "c.close()"
      ],
      "metadata": {
        "id": "M8O4_MOSusJ1"
      },
      "execution_count": null,
      "outputs": []
    },
    {
      "cell_type": "markdown",
      "source": [
        "## **Uniquness violations in record level**\n",
        "\n",
        "\n",
        "---\n",
        "\n"
      ],
      "metadata": {
        "id": "s1M6i8Rg84NO"
      }
    },
    {
      "cell_type": "markdown",
      "source": [
        "## Identify uniqueness violations for a key"
      ],
      "metadata": {
        "id": "j9fvI5NZ-1rx"
      }
    },
    {
      "cell_type": "code",
      "source": [
        "c = conn.cursor()\n",
        "\n",
        "c.execute('''\n",
        "  SELECT *, COUNT(*) AS duplicates\n",
        "  FROM employees\n",
        "  GROUP BY id\n",
        "  HAVING COUNT(*) > 1\n",
        "''')\n",
        "\n",
        "results = c.fetchall()\n",
        "\n",
        "for result in results:\n",
        "  print(result)\n",
        "\n",
        "c.close()"
      ],
      "metadata": {
        "colab": {
          "base_uri": "https://localhost:8080/"
        },
        "id": "ym7xTkc7-0z4",
        "outputId": "c4e690a6-75b7-4ca7-988c-8634bf996304"
      },
      "execution_count": 43,
      "outputs": [
        {
          "output_type": "stream",
          "name": "stdout",
          "text": [
            "(1, 'Bill', 'Tibb', 'Mr', 61, 28, '2012-05-02', '900239889v', 2)\n"
          ]
        }
      ]
    },
    {
      "cell_type": "markdown",
      "source": [
        "## Identify uniqueness violations (Duplicate all columns except primary key)"
      ],
      "metadata": {
        "id": "u921M9wGCRUJ"
      }
    },
    {
      "cell_type": "code",
      "source": [
        "c = conn.cursor()\n",
        "\n",
        "c.execute('''\n",
        "  SELECT *, COUNT(*) AS duplicates\n",
        "  FROM employees\n",
        "  GROUP BY f_name, l_name, title, age, wage, hire_date, NIC\n",
        "  HAVING COUNT(*) > 1\n",
        "''')\n",
        "\n",
        "results = c.fetchall()\n",
        "\n",
        "for result in results:\n",
        "  print(result)\n",
        "\n",
        "c.close()"
      ],
      "metadata": {
        "colab": {
          "base_uri": "https://localhost:8080/"
        },
        "id": "gLDn8qd3BmLQ",
        "outputId": "4b0c92a4-396b-46b8-d252-4d00ef11ba6f"
      },
      "execution_count": 36,
      "outputs": [
        {
          "output_type": "stream",
          "name": "stdout",
          "text": [
            "(6, 'David', 'Guerin', 'Honorable', 36, 20, '2018-03-30', '123456789v', 2)\n"
          ]
        }
      ]
    },
    {
      "cell_type": "markdown",
      "source": [
        "## Identify uniqueness violations for a key - Display all"
      ],
      "metadata": {
        "id": "jqYUVx3xl6Cl"
      }
    },
    {
      "cell_type": "code",
      "source": [
        "c = conn.cursor()\n",
        "\n",
        "c.execute('''\n",
        "  SELECT a.*\n",
        "  FROM employees a, (SELECT *, COUNT(*)\n",
        "        FROM employees\n",
        "        GROUP BY id\n",
        "        HAVING COUNT(*) > 1) b\n",
        "  WHERE a.id = b.id\n",
        "''')\n",
        "\n",
        "results = c.fetchall()\n",
        "\n",
        "for result in results:\n",
        "  print(result)\n",
        "\n",
        "c.close()"
      ],
      "metadata": {
        "colab": {
          "base_uri": "https://localhost:8080/"
        },
        "id": "4pGzloqgl5Mj",
        "outputId": "32c06bfb-1492-4a4b-92e0-8e78b5d65849"
      },
      "execution_count": 41,
      "outputs": [
        {
          "output_type": "stream",
          "name": "stdout",
          "text": [
            "(1, 'kavishka', 'tim', 'Mr', 22, 28, '2022-05-01', '200005303420')\n",
            "(1, 'Bill', 'Tibb', 'Mr', 61, 28, '2012-05-02', '900239889v')\n"
          ]
        }
      ]
    },
    {
      "cell_type": "markdown",
      "source": [
        "## Identify uniqueness violations (Duplicate all columns except primary key) - Display all"
      ],
      "metadata": {
        "id": "6DCUcXQUu4xf"
      }
    },
    {
      "cell_type": "code",
      "source": [
        "c = conn.cursor()\n",
        "\n",
        "c.execute('''\n",
        "  SELECT a.*\n",
        "  FROM employees a, (SELECT *, COUNT(*) AS duplicates\n",
        "        FROM employees\n",
        "        GROUP BY f_name, l_name, title, age, wage, hire_date, NIC\n",
        "        HAVING COUNT(*) > 1) b\n",
        "  WHERE a.f_name = b.f_name and \n",
        "        a.l_name = b.l_name and \n",
        "        a.title = b.title and \n",
        "        a.age = b.age and \n",
        "        a.wage = b.wage and \n",
        "        a.hire_date = b.hire_date and \n",
        "        a.NIC = b.NIC\n",
        "''')\n",
        "\n",
        "results = c.fetchall()\n",
        "\n",
        "for result in results:\n",
        "  print(result)\n",
        "\n",
        "c.close()"
      ],
      "metadata": {
        "colab": {
          "base_uri": "https://localhost:8080/"
        },
        "id": "vibYpfqYne7w",
        "outputId": "1e645fcf-8370-4192-ccda-498d285d3642"
      },
      "execution_count": 44,
      "outputs": [
        {
          "output_type": "stream",
          "name": "stdout",
          "text": [
            "(5, 'David', 'Guerin', 'Honorable', 36, 20, '2018-03-30', '123456789v')\n",
            "(6, 'David', 'Guerin', 'Honorable', 36, 20, '2018-03-30', '123456789v')\n"
          ]
        }
      ]
    },
    {
      "cell_type": "markdown",
      "source": [
        "## Removing duplicates"
      ],
      "metadata": {
        "id": "Aath008hEgo3"
      }
    },
    {
      "cell_type": "code",
      "source": [
        "c = conn.cursor()\n",
        "\n",
        "c.execute('''\n",
        "  SELECT *, COUNT(id) AS duplicates\n",
        "  FROM employees\n",
        "  GROUP BY f_name, l_name, title, age, wage, hire_date, NIC\n",
        "  HAVING COUNT(*) > 1\n",
        "''')\n",
        "\n",
        "results = c.fetchall()\n",
        "\n",
        "for result in results:\n",
        "  c.execute(\"DELETE FROM employees WHERE id = ?\", (result[0],))\n",
        "  \n",
        "c.execute('''\n",
        "  SELECT *\n",
        "  FROM employees\n",
        "''')\n",
        "\n",
        "results = c.fetchall()\n",
        "\n",
        "for result in results:\n",
        "  print(result)\n",
        "\n",
        "c.close()"
      ],
      "metadata": {
        "colab": {
          "base_uri": "https://localhost:8080/"
        },
        "id": "tLEtHEkODbql",
        "outputId": "fc0ac1dd-8ac1-48e7-f6bd-a3f3fabf7943"
      },
      "execution_count": 45,
      "outputs": [
        {
          "output_type": "stream",
          "name": "stdout",
          "text": [
            "(1, 'kavishka', 'tim', 'Mr', 22, 28, '2022-05-01', '200005303420')\n",
            "(1, 'Bill', 'Tibb', 'Mr', 61, 28, '2012-05-02', '900239889v')\n",
            "(3, 'Bill', 'Sadat', None, 18, 12, '2019-11-08', '640239889v')\n",
            "(4, 'Christine', 'Riveles', None, 36, 20, '2018-03-30', '200014303420')\n",
            "(5, 'David', 'Guerin', 'Honorable', 36, 20, '2018-03-30', '123456789v')\n"
          ]
        }
      ]
    },
    {
      "cell_type": "code",
      "source": [],
      "metadata": {
        "id": "1bA16nVKGGFq"
      },
      "execution_count": null,
      "outputs": []
    }
  ]
}