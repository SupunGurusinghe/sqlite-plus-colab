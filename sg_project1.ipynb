{
  "cells": [
    {
      "cell_type": "markdown",
      "metadata": {
        "id": "view-in-github",
        "colab_type": "text"
      },
      "source": [
        "<a href=\"https://colab.research.google.com/github/SupunGurusinghe/sqlite-plus-colab/blob/main/sg_project1.ipynb\" target=\"_parent\"><img src=\"https://colab.research.google.com/assets/colab-badge.svg\" alt=\"Open In Colab\"/></a>"
      ]
    },
    {
      "cell_type": "markdown",
      "metadata": {
        "id": "QHe8CnXdinuv"
      },
      "source": [
        "#### The core ways to handle missing values should be familiar to all data scientists, a phrase which here means ‘if you aren’t familiar, you should memorise the following list’:\n",
        "\n",
        "\n",
        "1. **Listwise deletion:** if a variable has so many missing cases that it appears useless, delete it.\n",
        "\n",
        "2. **Casewise deletion:** if there are too many factors missing for a particular observation, delete it.\n",
        "\n",
        "3. **Dummy Variable Adjustment:** if the variable is missing for a particular case, use an assumed value in its stead. Depending on the problem the median may appear the intuitive choice or a value that represents a ‘neutral’ setting.\n",
        "\n",
        "4. **Imputation:** use an algorithm to fill in the value, from a simple random number at the most basic end of the spectrum, to a value imputed by its own model at the more complex end.\n",
        "\n"
      ]
    },
    {
      "cell_type": "markdown",
      "metadata": {
        "id": "RrcDyUF-FDb4"
      },
      "source": [
        "## **Imports**"
      ]
    },
    {
      "cell_type": "markdown",
      "source": [
        "### Import SQLite database\n",
        "\n",
        "> **Pros:** SQLite is easier to integrate with colab\n",
        "\n",
        "> **Cons:** There are some limitations than MySQL or MS SQL Server\n",
        "\n",
        "\n",
        "\n",
        "\n",
        "\n"
      ],
      "metadata": {
        "id": "qQEzri0oa_X9"
      }
    },
    {
      "cell_type": "code",
      "execution_count": 1,
      "metadata": {
        "id": "1VDtEJCWMyPz"
      },
      "outputs": [],
      "source": [
        "from sqlite3 import connect"
      ]
    },
    {
      "cell_type": "markdown",
      "metadata": {
        "id": "1z8n-KGzFIn0"
      },
      "source": [
        "## DB Connection"
      ]
    },
    {
      "cell_type": "code",
      "execution_count": 3,
      "metadata": {
        "id": "yjLNjP9I2H-Z"
      },
      "outputs": [],
      "source": [
        "conn = connect('test.db')"
      ]
    },
    {
      "cell_type": "markdown",
      "metadata": {
        "id": "xRBXsSZx1lNW"
      },
      "source": [
        "# **Basic NULL values handling**"
      ]
    },
    {
      "cell_type": "markdown",
      "metadata": {
        "id": "oklS44PYFN_S"
      },
      "source": [
        "### SQLite Creating a table"
      ]
    },
    {
      "cell_type": "markdown",
      "metadata": {
        "id": "vcLa8yFzSht-"
      },
      "source": [
        "### **Background**\n",
        "\n",
        "> **Scenario:** There is database table `employees` to store employee data. Column names and their data types are mentioned below.\n",
        "\n",
        "**Special words**\n",
        "* `employees`Table name\n",
        "* `id` employee id (primary key)\n",
        "*  `f_name` first name of employee\n",
        "* `l_name` last name of employee\n",
        "* `title` title of employee\n",
        "* `NIC` national id number of employee (unique)\n",
        "\n",
        "---\n",
        "**Data types**\n",
        "* `id` Integer\n",
        "*  `f_name` Varchar(50)\n",
        "* `l_name` Varchar(50)\n",
        "* `title` Varchar(10)\n",
        "* `NIC` Varchar(12)\n",
        "\n",
        "---\n",
        "**Output:** All the set of rows of table\n",
        "\n"
      ]
    },
    {
      "cell_type": "code",
      "execution_count": 4,
      "metadata": {
        "colab": {
          "base_uri": "https://localhost:8080/"
        },
        "id": "ATp1vz7bFR7l",
        "outputId": "c13823f1-674b-44e3-8919-f6923e373dee"
      },
      "outputs": [
        {
          "output_type": "stream",
          "name": "stdout",
          "text": [
            "(1, 'kavishka', 'tim', 'Mr', 22, 28, '2022-05-01', '200005303420')\n",
            "(1, 'Bill', 'Tibb', 'Mr', 61, 28, '2012-05-02', '900239889v')\n",
            "(3, 'Bill', 'Sadat', None, 18, 12, '2019-11-08', '640239889v')\n",
            "(4, 'Christine', 'Riveles', None, 36, 20, '2018-03-30', '200014303420')\n",
            "(5, 'David', 'Guerin', 'Honorable', 36, 20, '2018-03-30', '123456789v')\n",
            "(6, 'David', 'Guerin', 'Honorable', 36, 20, '2018-03-30', '123456789v')\n",
            "(None, 'David', 'Guerin', 'Honorable', 36, 20, '2018-03-30', '124097654988')\n"
          ]
        }
      ],
      "source": [
        "c = conn.cursor()\n",
        "\n",
        "# dropping an existing table\n",
        "c.execute(\"DROP TABLE IF EXISTS employees\")\n",
        "\n",
        "# create table\n",
        "c.execute('''\n",
        "  CREATE TABLE employees(\n",
        "    id INT,\n",
        "    f_name VARCHAR(50),\n",
        "    l_name VARCHAR(50),\n",
        "    title VARCHAR(10),\n",
        "    age INT,\n",
        "    wage INT,\n",
        "    hire_date DATE,\n",
        "    NIC VARCHAR(12)\n",
        "  )\n",
        "''')\n",
        "\n",
        "# List of values\n",
        "employees = [(1, 'kavishka', 'tim', 'Mr', 22, 28, '2022-05-01', '200005303420'), \n",
        "             (1, 'Bill', 'Tibb', 'Mr', 61, 28, '2012-05-02', '900239889v'), \n",
        "             (3, 'Bill', 'Sadat', None, 18, 12, '2019-11-08', '640239889v'),\n",
        "             (4, 'Christine', 'Riveles', None, 36, 20, '2018-03-30', '200014303420'),\n",
        "             (5, 'David', 'Guerin', 'Honorable', 36, 20, '2018-03-30', '123456789v'),\n",
        "             (6, 'David', 'Guerin', 'Honorable', 36, 20, '2018-03-30', '123456789v'),\n",
        "             (None, 'David', 'Guerin', 'Honorable', 36, 20, '2018-03-30', '124097654988')]\n",
        "\n",
        "c.executemany(\"INSERT INTO employees VALUES (?,?,?,?,?,?,?,?)\", employees)\n",
        "\n",
        "c.execute('SELECT * FROM employees')\n",
        "\n",
        "results = c.fetchall()\n",
        "\n",
        "for result in results:\n",
        "  print(result)\n",
        "\n",
        "c.close()"
      ]
    },
    {
      "cell_type": "markdown",
      "metadata": {
        "id": "HzTd87QSyB71"
      },
      "source": [
        "\n",
        "\n",
        "---\n",
        "\n"
      ]
    },
    {
      "cell_type": "markdown",
      "source": [
        "# **Completeness (DQ Dimension)**\n",
        "\n",
        "Data completeness refers to the comprehensiveness or wholeness of the data. \n",
        "> There should be no gaps or missing information for data to be truly complete\n",
        "\n",
        "> Sometimes incomplete data is unusable, but often it's still used even with missing information, **which can lead to costly mistakes and false conclusions**.\n",
        "\n",
        "\n",
        "---"
      ],
      "metadata": {
        "id": "xE_BeJEHeQoc"
      }
    },
    {
      "cell_type": "markdown",
      "source": [
        "> A `null` value in a relational database is used when the value in a column is unknown or missing.\n",
        "\n",
        "> A `null` is neither an empty string (for character or datetime data types) nor a zero value (for numeric data types)\n",
        "\n",
        "Identification of `null`value is a crucial thing before handling them. \n",
        "We are doing this null value handling part basically from 2 levels\n",
        "\n",
        "1.   Basic\n",
        "2.   Advance\n",
        "\n",
        "Each level contains;\n",
        "\n",
        "\n",
        "1.   `null` values identification\n",
        "2.   `null` values handling\n",
        "\n",
        "\n",
        "\n",
        "\n",
        "\n",
        "\n"
      ],
      "metadata": {
        "id": "Tm-DXKDCgBpi"
      }
    },
    {
      "cell_type": "markdown",
      "metadata": {
        "id": "z4sjDm5uTvry"
      },
      "source": [
        "## (BASIC) Identify `NULL` values\n",
        "\n",
        "\n",
        "\n",
        "---\n",
        "\n"
      ]
    },
    {
      "cell_type": "markdown",
      "metadata": {
        "id": "1rq5gVnLjMkg"
      },
      "source": [
        "> **Scenario:** Take the sum of `null` vaues for each column\n",
        "\n",
        " **Importance:** Helps to identify which columns with null values and allows you to identify which columns that you want to handle\n",
        "\n",
        " **Output:** Set of null counts for each column\n",
        "\n"
      ]
    },
    {
      "cell_type": "code",
      "execution_count": 4,
      "metadata": {
        "colab": {
          "base_uri": "https://localhost:8080/"
        },
        "id": "Y3wRCIKnTujZ",
        "outputId": "9b434878-e766-482d-ec6d-e3aa3ed7f06b"
      },
      "outputs": [
        {
          "output_type": "stream",
          "name": "stdout",
          "text": [
            "(1, 0, 0, 2, 0, 0, 0)\n"
          ]
        }
      ],
      "source": [
        "c = conn.cursor()\n",
        "\n",
        "c.execute('''\n",
        "  SELECT \n",
        "    SUM(CASE WHEN id IS NULL THEN 1 ELSE 0 END) AS id ,\n",
        "    SUM(CASE WHEN f_name IS NULL THEN 1 ELSE 0 END) AS f_name,\n",
        "    SUM(CASE WHEN l_name IS NULL THEN 1 ELSE 0 END) AS l_name,\n",
        "    SUM(CASE WHEN title IS NULL THEN 1 ELSE 0 END) AS title,\n",
        "    SUM(CASE WHEN age IS NULL THEN 1 ELSE 0 END) AS age,\n",
        "    SUM(CASE WHEN wage IS NULL THEN 1 ELSE 0 END) AS wage,\n",
        "    SUM(CASE WHEN hire_date IS NULL THEN 1 ELSE 0 END) AS hire_date\n",
        "  FROM employees\n",
        "''')\n",
        "\n",
        "results = c.fetchall()\n",
        "\n",
        "for result in results:\n",
        "  print(result)\n",
        "\n",
        "c.close()"
      ]
    },
    {
      "cell_type": "markdown",
      "metadata": {
        "id": "ODzcmLKprzwz"
      },
      "source": [
        "### **Selecting rows having `NULL` value for a particular column**"
      ]
    },
    {
      "cell_type": "code",
      "execution_count": 5,
      "metadata": {
        "colab": {
          "base_uri": "https://localhost:8080/"
        },
        "id": "W0-fhTpISScC",
        "outputId": "a9eb89d1-3676-48c7-841e-3a7467802d0a"
      },
      "outputs": [
        {
          "output_type": "stream",
          "name": "stdout",
          "text": [
            "(3, 'Bill', 'Sadat', None, 18, 12, '2019-11-08', '640239889v')\n",
            "(4, 'Christine', 'Riveles', None, 36, 20, '2018-03-30', '200014303420')\n"
          ]
        }
      ],
      "source": [
        "c = conn.cursor()\n",
        "\n",
        "c.execute('''\n",
        "  SELECT *\n",
        "  FROM employees\n",
        "  WHERE title IS NULL\n",
        "''')\n",
        "\n",
        "results = c.fetchall()\n",
        "\n",
        "for result in results:\n",
        "  print(result)\n",
        "\n",
        "c.close()"
      ]
    },
    {
      "cell_type": "markdown",
      "metadata": {
        "id": "iQOAFw_lvNQ-"
      },
      "source": [
        "### **Selecting rows having `NULL` value for any of the columns**"
      ]
    },
    {
      "cell_type": "code",
      "execution_count": 5,
      "metadata": {
        "colab": {
          "base_uri": "https://localhost:8080/"
        },
        "id": "hozU_mmCvTPu",
        "outputId": "7d4242b0-01cc-4d9b-cc12-d9a9719966bc"
      },
      "outputs": [
        {
          "output_type": "stream",
          "name": "stdout",
          "text": [
            "(3, 'Bill', 'Sadat', None, 18, 12, '2019-11-08', '640239889v')\n",
            "(4, 'Christine', 'Riveles', None, 36, 20, '2018-03-30', '200014303420')\n",
            "(None, 'David', 'Guerin', 'Honorable', 36, 20, '2018-03-30', '124097654988')\n"
          ]
        }
      ],
      "source": [
        "c = conn.cursor()\n",
        "\n",
        "c.execute('''\n",
        "  SELECT *\n",
        "  FROM employees\n",
        "  WHERE (id || f_name || l_name || title || age || wage || hire_date) IS NULL\n",
        "''')\n",
        "\n",
        "results = c.fetchall()\n",
        "\n",
        "for result in results:\n",
        "  print(result)\n",
        "\n",
        "c.close()"
      ]
    },
    {
      "cell_type": "markdown",
      "metadata": {
        "id": "hPw6JhGik_cO"
      },
      "source": [
        "\n",
        "\n",
        "---"
      ]
    },
    {
      "cell_type": "markdown",
      "metadata": {
        "id": "j95ijtFUkd7a"
      },
      "source": [
        "## Handling `NULL` values\n",
        "\n",
        "---\n",
        "\n",
        "\n",
        "\n",
        "> There are many missing values (NULLs) of a column, but the columns \n",
        "itself is not of interest from analysis point of view.\n",
        "\n",
        "> There may be no missing value of a column, but it is excluded from the analysis we are preparing the Dataset for. \n",
        "\n",
        "> There may be very few missing values of column, but dropping the field (column) is better than replacing those values\n",
        "\n"
      ]
    },
    {
      "cell_type": "markdown",
      "metadata": {
        "id": "hrZSI2wvZF1a"
      },
      "source": [
        "### **Deleting rows where column value is `NULL`**"
      ]
    },
    {
      "cell_type": "code",
      "execution_count": 7,
      "metadata": {
        "id": "tiRds5YGc1e1"
      },
      "outputs": [],
      "source": [
        "c = conn.cursor()\n",
        "\n",
        "c.execute('''\n",
        "  DELETE FROM employees WHERE id IS NULL\n",
        "''')\n",
        "\n",
        "c.close()"
      ]
    },
    {
      "cell_type": "markdown",
      "metadata": {
        "id": "4xG1pqQKe4jj"
      },
      "source": [
        "### **Dropping a column when all rows have `NULL` for that column**\n",
        "\n",
        "There are many ways to decide whether to delete or not\n",
        "\n",
        "* Selecting id by grouping\n",
        "* Selecting distinct ids\n",
        "* Taking not null id count"
      ]
    },
    {
      "cell_type": "markdown",
      "source": [
        "#### **If all values `null`; then delete**"
      ],
      "metadata": {
        "id": "TMtdUODjZzXU"
      }
    },
    {
      "cell_type": "code",
      "execution_count": 8,
      "metadata": {
        "colab": {
          "base_uri": "https://localhost:8080/"
        },
        "id": "ULbzn0mJgBFN",
        "outputId": "38853b44-942e-4194-8764-9c3ae31797df"
      },
      "outputs": [
        {
          "output_type": "stream",
          "name": "stdout",
          "text": [
            "(1,)\n",
            "(3,)\n",
            "(4,)\n",
            "(5,)\n",
            "(6,)\n"
          ]
        }
      ],
      "source": [
        "# If all null\n",
        "c = conn.cursor()\n",
        "\n",
        "c.execute('''SELECT id FROM employees GROUP BY id''')\n",
        "\n",
        "results = c.fetchall()\n",
        "\n",
        "for result in results:\n",
        "  print(result)\n",
        "\n",
        "c.close()"
      ]
    },
    {
      "cell_type": "markdown",
      "source": [
        "#### **If all values `null`; then delete**"
      ],
      "metadata": {
        "id": "6FLSauKhaA1x"
      }
    },
    {
      "cell_type": "code",
      "execution_count": 9,
      "metadata": {
        "colab": {
          "base_uri": "https://localhost:8080/"
        },
        "id": "obLqUAD3rn7U",
        "outputId": "2a3ad3e5-014a-4799-cf8c-2ec66182569e"
      },
      "outputs": [
        {
          "output_type": "stream",
          "name": "stdout",
          "text": [
            "(1,)\n",
            "(3,)\n",
            "(4,)\n",
            "(5,)\n",
            "(6,)\n"
          ]
        }
      ],
      "source": [
        "# If all null\n",
        "c = conn.cursor()\n",
        "\n",
        "c.execute('''SELECT DISTINCT id FROM employees''')\n",
        "\n",
        "results = c.fetchall()\n",
        "\n",
        "for result in results:\n",
        "  print(result)\n",
        "\n",
        "c.close()"
      ]
    },
    {
      "cell_type": "markdown",
      "source": [
        "#### **If output is zero; then delete**"
      ],
      "metadata": {
        "id": "Cv73hLYvaDMy"
      }
    },
    {
      "cell_type": "code",
      "execution_count": 10,
      "metadata": {
        "colab": {
          "base_uri": "https://localhost:8080/"
        },
        "id": "hXXKacj0rwxM",
        "outputId": "8b33fc2a-c7fc-4d37-8060-41ad5a5b6164"
      },
      "outputs": [
        {
          "output_type": "stream",
          "name": "stdout",
          "text": [
            "(6,)\n"
          ]
        }
      ],
      "source": [
        "# If zero (0)\n",
        "c = conn.cursor()\n",
        "\n",
        "c.execute('''SELECT count(id) FROM employees WHERE id IS NOT NULL''')\n",
        "\n",
        "results = c.fetchall()\n",
        "\n",
        "for result in results:\n",
        "  print(result)\n",
        "\n",
        "c.close()"
      ]
    },
    {
      "cell_type": "markdown",
      "source": [
        "> **Note: If only you satisfy any of the aboe conditions you have permission to execute the following codeblock and delete null rows.**"
      ],
      "metadata": {
        "id": "yS1LyeGJaMmJ"
      }
    },
    {
      "cell_type": "code",
      "execution_count": 11,
      "metadata": {
        "colab": {
          "base_uri": "https://localhost:8080/"
        },
        "id": "kKV2Eq0nrYXu",
        "outputId": "2a806e41-0cd8-494a-9862-5dff9abeff0a"
      },
      "outputs": [
        {
          "output_type": "stream",
          "name": "stdout",
          "text": [
            "('kavishka', 'tim', 'Mr', 22, 28, '2022-05-01')\n",
            "('Bill', 'Tibb', 'Mr', 61, 28, '2012-05-02')\n",
            "('Bill', 'Sadat', None, 18, 12, '2019-11-08')\n",
            "('Christine', 'Riveles', None, 36, 20, '2018-03-30')\n",
            "('David', 'Guerin', 'Honorable', 36, 20, '2018-03-30')\n",
            "('David', 'Guerin', 'Honorable', 36, 20, '2018-03-30')\n"
          ]
        }
      ],
      "source": [
        "#  if you only get back just NULL (or 0 for that last one)\n",
        "c = conn.cursor()\n",
        "\n",
        "c.execute('''CREATE TEMPORARY TABLE t1_backup(f_name, l_name, title, age, wage, hire_date)''')\n",
        "c.execute('''INSERT INTO t1_backup SELECT f_name, l_name, title, age, wage, hire_date FROM employees''')\n",
        "c.execute('''DROP TABLE employees''')\n",
        "c.execute('''CREATE TABLE employees(f_name, l_name, title, age, wage, hire_date)''')\n",
        "c.execute('''INSERT INTO employees SELECT f_name, l_name, title, age, wage, hire_date FROM t1_backup''')\n",
        "c.execute('''DROP TABLE t1_backup''')\n",
        "\n",
        "c.execute('''\n",
        "  SELECT *\n",
        "  FROM employees\n",
        "''')\n",
        "results = c.fetchall()\n",
        "\n",
        "for result in results:\n",
        "  print(result)\n",
        "\n",
        "c.close()"
      ]
    },
    {
      "cell_type": "markdown",
      "metadata": {
        "id": "puYmS4nwsOW1"
      },
      "source": [
        "### **Replace `NULL` values with a sentinel (standard value)**\n",
        "\n",
        "When it comes to standard there are different ways to replace `null` with a standard value. For example;\n",
        "> - **Numeric data:** Value not in a range (ex:- Wind speed: 9999.99, Iron melting temp: -1)\n",
        "- **Dates:** unreasonablylarge or small\n",
        "- **Default value** like `UNKNOWN`\n",
        "\n",
        "In this case I have used a default value `Honarable` for missing `titles`"
      ]
    },
    {
      "cell_type": "code",
      "execution_count": 12,
      "metadata": {
        "colab": {
          "base_uri": "https://localhost:8080/"
        },
        "id": "NeCs7f85eKur",
        "outputId": "5113263c-d459-4991-e558-8d37713ed44c"
      },
      "outputs": [
        {
          "output_type": "stream",
          "name": "stdout",
          "text": [
            "('kavishka', 'tim', 'Mr')\n",
            "('Bill', 'Tibb', 'Mr')\n",
            "('Bill', 'Sadat', 'Honorable')\n",
            "('Christine', 'Riveles', 'Honorable')\n",
            "('David', 'Guerin', 'Honorable')\n",
            "('David', 'Guerin', 'Honorable')\n"
          ]
        }
      ],
      "source": [
        "c = conn.cursor()\n",
        "\n",
        "c.execute('''\n",
        "  SELECT \n",
        "    f_name,\n",
        "    l_name,\n",
        "    CASE WHEN title IS NULL THEN 'Honorable' ELSE title END AS NewTitle\n",
        "  FROM employees\n",
        "''')\n",
        "\n",
        "results = c.fetchall()\n",
        "\n",
        "for result in results:\n",
        "  print(result)\n",
        "\n",
        "c.close()"
      ]
    },
    {
      "cell_type": "markdown",
      "metadata": {
        "id": "xEytkC3210QG"
      },
      "source": [
        "## (ADVANCE) `NULL` values handling\n",
        "\n",
        "---"
      ]
    },
    {
      "cell_type": "markdown",
      "metadata": {
        "id": "DrisqPpa16GP"
      },
      "source": [
        "## Replace by an statistical technique such as mean\n",
        "\n",
        "Let us now discuss another form of data wrangling by imputing (replacing) missing values with the help of Mean Method to improve the data quality.  This method requires us to calculate statistical mean value of the series of the dataset to impute (replace) missing values."
      ]
    },
    {
      "cell_type": "code",
      "execution_count": 13,
      "metadata": {
        "colab": {
          "base_uri": "https://localhost:8080/"
        },
        "id": "I4L3J5Br13UX",
        "outputId": "01723e28-75c5-49e5-a448-c8fda2d5812f"
      },
      "outputs": [
        {
          "output_type": "stream",
          "name": "stdout",
          "text": [
            "(1, 'USA', 'LA', 1000000.0, 1.0, 3.0, 5.0)\n",
            "(2, 'UK', 'London', 400000.0, None, 5.0, 7.0)\n",
            "(3, 'USA', 'LA', 850000.0, 9.0, None, None)\n",
            "(4, 'USA', 'LA', None, 12.0, 4.0, 9.0)\n",
            "(5, 'USA', 'LA', 900000.0, 2.0, 6.0, 1.0)\n",
            "(6, 'UK', 'London', 550000.0, None, 4.0, 8.0)\n",
            "(7, 'USA', 'LA', 1000000.0, 8.0, 8.0, 8.0)\n",
            "(8, 'UK', 'London', 400000.0, 1.0, 4.0, 9.0)\n",
            "(9, 'USA', 'LA', 850000.0, 4.0, 4.0, 5.0)\n",
            "(10, 'USA', 'LA', 1050000.0, None, None, None)\n",
            "(11, 'USA', 'LA', 900000.0, 3.0, 8.5, 9.0)\n",
            "(12, 'UK', 'London', None, 10.0, 7.0, None)\n"
          ]
        }
      ],
      "source": [
        "c = conn.cursor()\n",
        "\n",
        "# dropping an existing table\n",
        "c.execute(\"DROP TABLE IF EXISTS house_price\")\n",
        "\n",
        "# create table\n",
        "c.execute('''\n",
        "  CREATE TABLE house_price(\n",
        "    id INT,\n",
        "    country VARCHAR(50),\n",
        "    city VARCHAR(50),\n",
        "    price DOUBLE,\n",
        "    a DOUBLE,\n",
        "    b DOUBLE,\n",
        "    c DOUBLE\n",
        "  )\n",
        "''')\n",
        "\n",
        "house_price = [(1, 'USA', 'LA', 1000000.00, 1, 3, 5), \n",
        "             (2, 'UK', 'London', 400000.00, None, 5, 7), \n",
        "             (3, 'USA', 'LA', 850000.00, 9, None, None),\n",
        "             (4, 'USA', 'LA', None, 12, 4, 9),\n",
        "             (5, 'USA', 'LA', 900000.00, 2, 6, 1),\n",
        "             (6, 'UK', 'London', 550000.00, None, 4, 8),\n",
        "             (7, 'USA', 'LA', 1000000.00, 8, 8, 8), \n",
        "             (8, 'UK', 'London', 400000.00, 1, 4, 9), \n",
        "             (9, 'USA', 'LA', 850000.00, 4, 4, 5),\n",
        "             (10, 'USA', 'LA', 1050000.00, None, None, None),\n",
        "             (11, 'USA', 'LA', 900000.00, 3, 8.5, 9),\n",
        "             (12, 'UK', 'London', None, 10, 7, None)]\n",
        "\n",
        "c.executemany(\"INSERT INTO house_price VALUES (?,?,?,?,?,?,?)\", house_price)\n",
        "\n",
        "c.execute('SELECT * FROM house_price')\n",
        "\n",
        "results = c.fetchall()\n",
        "\n",
        "for result in results:\n",
        "  print(result)\n",
        "\n",
        "c.close()"
      ]
    },
    {
      "cell_type": "code",
      "execution_count": 14,
      "metadata": {
        "colab": {
          "base_uri": "https://localhost:8080/"
        },
        "id": "I5ftJHRi5hEE",
        "outputId": "90429779-2434-4231-99c9-d953696104a8"
      },
      "outputs": [
        {
          "output_type": "stream",
          "name": "stdout",
          "text": [
            "('USA', 'LA', 1000000.0)\n",
            "('UK', 'London', 400000.0)\n",
            "('USA', 'LA', 850000.0)\n",
            "('USA', 'LA', 935714.2857142857)\n",
            "('USA', 'LA', 900000.0)\n",
            "('UK', 'London', 550000.0)\n",
            "('USA', 'LA', 1000000.0)\n",
            "('UK', 'London', 400000.0)\n",
            "('USA', 'LA', 850000.0)\n",
            "('USA', 'LA', 1050000.0)\n",
            "('USA', 'LA', 900000.0)\n",
            "('UK', 'London', 450000.0)\n"
          ]
        }
      ],
      "source": [
        "c = conn.cursor()\n",
        "\n",
        "c.execute('''\n",
        "  SELECT \n",
        "    h.country, \n",
        "    h.city,\n",
        "    COALESCE(h.price, n.newprice) AS price_new\n",
        "  FROM house_price h, (SELECT s.city, AVG(s.price) AS newprice\n",
        "        FROM house_price s\n",
        "        GROUP BY s.city) n\n",
        "  WHERE h.city = n.city\n",
        "''')\n",
        "\n",
        "results = c.fetchall()\n",
        "\n",
        "for result in results:\n",
        "  print(result)\n",
        "\n",
        "c.close()"
      ]
    },
    {
      "cell_type": "markdown",
      "metadata": {
        "id": "5RhwqEhbHhA9"
      },
      "source": [
        "`Note: Instead of AVG(), use functions such as MAX(), MIN() as necessary`"
      ]
    },
    {
      "cell_type": "code",
      "execution_count": 61,
      "metadata": {
        "colab": {
          "base_uri": "https://localhost:8080/"
        },
        "id": "39ENbLKVo3IX",
        "outputId": "472c0611-145c-4611-8f7b-2cb920223f8a"
      },
      "outputs": [
        {
          "output_type": "stream",
          "name": "stdout",
          "text": [
            "('2022-01-01', 1, 84, 131, 2374, 'normal', 2171, 1.1, 0)\n",
            "('2022-01-02', 1, None, 132, 1587, 'normal', 1877, 1.5, 0)\n",
            "('2022-01-03', 1, 85, 133, 1206, 'normal', 1296, 1.8, 0)\n",
            "('2022-01-04', 1, None, None, 2181, 'normal', 1879, 2.0, 0)\n",
            "('2022-01-05', 1, None, 134, 1271, 'normal', 2170, 1.7, 0)\n",
            "('2022-01-06', 1, None, None, 1508, 'normal', 1556, 1.3, 0)\n",
            "('2022-01-07', 1, 86, 135, 1298, 'normal', 1749, 1.9, 0)\n",
            "('2022-01-08', 1, 87, None, 1327, 'normal', 2058, None, 0)\n",
            "('2022-01-09', 1, 88, 136, 1978, 'normal', 1501, 1.3, 0)\n",
            "('2022-01-10', 1, None, None, 2131, 'normal', 1952, 1.4, 0)\n",
            "('2022-01-11', 1, None, 137, 1611, 'normal', 2049, 1.0, 0)\n",
            "('2022-01-12', 1, 89, None, 1388, 'normal', 2400, 2.0, 0)\n",
            "('2022-01-13', 1, 90, 138, 1596, 'normal', 1453, 1.2, 0)\n",
            "('2022-01-14', 1, 91, None, 1911, 'warning', 1680, None, 0)\n",
            "('2022-01-15', 1, None, 139, 2368, 'warning', 1496, 1.0, 0)\n",
            "('2022-01-16', 1, None, None, 2055, 'warning', 1574, 1.2, 0)\n",
            "('2022-01-17', 1, 92, 140, 1961, 'warning', 2252, 1.9, 0)\n",
            "('2022-01-18', 1, 93, None, 2314, 'warning', 1860, 2.0, 0)\n",
            "('2022-01-19', 1, None, 141, 2046, 'warning', 2378, 1.5, 0)\n",
            "('2022-01-20', 1, 92, None, 1880, 'warning', 1364, 1.2, 0)\n",
            "('2022-01-21', 1, 91, 142, 1289, 'warning', 2174, 1.5, 0)\n",
            "('2022-01-22', 1, 90, 141, 1648, 'normal', 1928, 1.9, 0)\n",
            "('2022-01-23', 1, 89, 140, 1225, 'normal', 2035, 1.8, 0)\n",
            "('2022-01-24', 1, 88, 139, 1403, 'normal', 2139, 1.1, 0)\n",
            "('2022-01-25', 1, 87, 138, 1381, 'normal', 1230, None, 0)\n",
            "('2022-01-26', 1, 86, 137, 1720, 'normal', 1203, 1.6, 0)\n",
            "('2022-01-27', 1, 85, 136, 2392, 'normal', 2148, 1.3, 0)\n",
            "('2022-01-28', 1, 84, 135, 1956, 'normal', 2073, 1.2, 0)\n"
          ]
        }
      ],
      "source": [
        "c = conn.cursor()\n",
        "\n",
        "# dropping an existing table\n",
        "c.execute(\"DROP TABLE IF EXISTS hourly_machine_data\")\n",
        "\n",
        "# create table\n",
        "c.execute('''\n",
        "  CREATE TABLE hourly_machine_data(\n",
        "    Observation_datetime DATE,\n",
        "    Machine_ID INT,\n",
        "    Casing_Temperature_F INT,\n",
        "    Bearing_Temperature_F INT,\n",
        "    Flywheel_rpm INT,\n",
        "    alarm_status VARCHAR(15),\n",
        "    Flywheel_rpm_2 INT,\n",
        "    Filter_airflow DOUBLE,\n",
        "    TARGET_failure_in_next_90 INT\n",
        "  )\n",
        "''')\n",
        "\n",
        "hourly_machine_data = [('2022-01-01',1,84,131,2374,'normal',2171,1.1,0),\n",
        "                ('2022-01-02',1,None,132,1587,'normal',1877,1.5,0),\n",
        "                ('2022-01-03',1,85,133,1206,'normal',1296,1.8,0),\n",
        "                ('2022-01-04',1,None,None,2181,'normal',1879,2,0),\n",
        "                ('2022-01-05',1,None,134,1271,'normal',2170,1.7,0),\n",
        "                ('2022-01-06',1,None,None,1508,'normal',1556,1.3,0),\n",
        "                ('2022-01-07',1,86,135,1298,'normal',1749,1.9,0),\n",
        "                ('2022-01-08',1,87,None,1327,'normal',2058,None,0),\n",
        "                ('2022-01-09',1,88,136,1978,'normal',1501,1.3,0),\n",
        "                ('2022-01-10',1,None,None,2131,'normal',1952,1.4,0),\n",
        "                ('2022-01-11',1,None,137,1611,'normal',2049,1,0),\n",
        "                ('2022-01-12',1,89,None,1388,'normal',2400,2,0),\n",
        "                ('2022-01-13',1,90,138,1596,'normal',1453,1.2,0),\n",
        "                ('2022-01-14',1,91,None,1911,'warning',1680,None,0),\n",
        "                ('2022-01-15',1,None,139,2368,'warning',1496,1,0),\n",
        "                ('2022-01-16',1,None,None,2055,'warning',1574,1.2,0),\n",
        "                ('2022-01-17',1,92,140,1961,'warning',2252,1.9,0),\n",
        "                ('2022-01-18',1,93,None,2314,'warning',1860,2,0),\n",
        "                ('2022-01-19',1,None,141,2046,'warning',2378,1.5,0),\n",
        "                ('2022-01-20',1,92,None,1880,'warning',1364,1.2,0),\n",
        "                ('2022-01-21',1,91,142,1289,'warning',2174,1.5,0),\n",
        "                ('2022-01-22',1,90,141,1648,'normal',1928,1.9,0),\n",
        "                ('2022-01-23',1,89,140,1225,'normal',2035,1.8,0),\n",
        "                ('2022-01-24',1,88,139,1403,'normal',2139,1.1,0),\n",
        "                ('2022-01-25',1,87,138,1381,'normal',1230,None,0),\n",
        "                ('2022-01-26',1,86,137,1720,'normal',1203,1.6,0),\n",
        "                ('2022-01-27',1,85,136,2392,'normal',2148,1.3,0),\n",
        "                ('2022-01-28',1,84,135,1956,'normal',2073,1.2,0)]\n",
        "\n",
        "c.executemany(\"INSERT INTO hourly_machine_data VALUES (?,?,?,?,?,?,?,?,?)\", hourly_machine_data)\n",
        "\n",
        "c.execute('SELECT * FROM hourly_machine_data;')\n",
        "\n",
        "results = c.fetchall()\n",
        "\n",
        "for result in results:\n",
        "  print(result)\n",
        "\n",
        "c.close()"
      ]
    },
    {
      "cell_type": "markdown",
      "metadata": {
        "id": "9ECtmk_Xo1Qp"
      },
      "source": [
        "## Replace By Last Value"
      ]
    },
    {
      "cell_type": "markdown",
      "source": [
        "1 For a single column"
      ],
      "metadata": {
        "id": "95CxKx03Idph"
      }
    },
    {
      "cell_type": "markdown",
      "source": [
        "https://www.sqlitetutorial.net/sqlite-window-functions/sqlite-last_value/#:~:text=The%20LAST_VALUE()%20is%20a,in%20a%20specified%20window%20frame."
      ],
      "metadata": {
        "id": "QVv6qe5pOOR_"
      }
    },
    {
      "cell_type": "markdown",
      "source": [
        "Missing Data\n",
        "\n",
        "https://towardsdatascience.com/4-techniques-to-handle-missing-values-in-time-series-data-c3568589b5a8#:~:text=Time%20Series%20models%20work%20with,Impute%20the%20missing%20information"
      ],
      "metadata": {
        "id": "BydHmoNDORy5"
      }
    },
    {
      "cell_type": "code",
      "source": [
        "c = conn.cursor()\n",
        "\n",
        "c.execute('''\n",
        "  SELECT\n",
        "      Machine_ID,\n",
        "      Observation_datetime,\n",
        "      LAST_VALUE(Casing_Temperature_F) OVER (\n",
        "        PARTITION BY Machine_ID\n",
        "        ORDER BY\n",
        "          Observation_datetime ROWS BETWEEN UNBOUNDED PRECEDING\n",
        "          AND CURRENT ROW\n",
        "      ) AS Latest_Casing_Temperature_F\n",
        "  FROM hourly_machine_data\n",
        "''')\n",
        "\n",
        "results = c.fetchall()\n",
        "\n",
        "for result in results:\n",
        "  print(result)\n",
        "\n",
        "c.close()"
      ],
      "metadata": {
        "id": "Z_zojfQhDrU2"
      },
      "execution_count": null,
      "outputs": []
    },
    {
      "cell_type": "markdown",
      "source": [
        "For multiple columns"
      ],
      "metadata": {
        "id": "XqY77l31O6F2"
      }
    },
    {
      "cell_type": "code",
      "execution_count": null,
      "metadata": {
        "id": "ZbR7Bc__te-Y"
      },
      "outputs": [],
      "source": [
        "c = conn.cursor()\n",
        "\n",
        "c.execute('''\n",
        "  SELECT\n",
        "    Machine_ID,\n",
        "    Observation_datetime,\n",
        "    LAST_VALUE(Casing_Temperature_F IS NOT NULL) OVER (\n",
        "      PARTITION BY Machine_ID\n",
        "      ORDER BY\n",
        "        Observation_datetime ROWS BETWEEN UNBOUNDED PRECEDING\n",
        "        AND CURRENT ROW\n",
        "    ) AS Latest_Casing_Temperature_F,\n",
        "    LAST_VALUE(Bearing_Temperature_F IS NOT NULL) OVER (\n",
        "      PARTITION BY Machine_ID\n",
        "      ORDER BY\n",
        "        Observation_datetime ROWS BETWEEN UNBOUNDED PRECEDING\n",
        "        AND CURRENT ROW\n",
        "    ) AS Latest_Bearing_Temperature_F,\n",
        "    LAST_VALUE(Flywheel_rpm IS NOT NULL) OVER (\n",
        "      PARTITION BY Machine_ID\n",
        "      ORDER BY\n",
        "        Observation_datetime ROWS BETWEEN UNBOUNDED PRECEDING\n",
        "        AND CURRENT ROW\n",
        "    ) AS Flywheel_rpm\n",
        "  FROM\n",
        "    hourly_machine_data;\n",
        "''')\n",
        "\n",
        "results = c.fetchall()\n",
        "\n",
        "for result in results:\n",
        "  print(result)\n",
        "\n",
        "c.close()"
      ]
    },
    {
      "cell_type": "markdown",
      "metadata": {
        "id": "s1M6i8Rg84NO"
      },
      "source": [
        "## **Uniquness violations in record level**\n",
        "\n",
        "\n",
        "---\n",
        "\n"
      ]
    },
    {
      "cell_type": "markdown",
      "source": [
        "## Using HAVING and GROUP BY"
      ],
      "metadata": {
        "id": "rMSBWB2fVBFJ"
      }
    },
    {
      "cell_type": "markdown",
      "metadata": {
        "id": "j9fvI5NZ-1rx"
      },
      "source": [
        "### **Identify uniqueness violations for a key**"
      ]
    },
    {
      "cell_type": "code",
      "execution_count": 38,
      "metadata": {
        "colab": {
          "base_uri": "https://localhost:8080/"
        },
        "id": "ym7xTkc7-0z4",
        "outputId": "8c9247b9-6bc0-4cd3-82bf-fa1dd708a022"
      },
      "outputs": [
        {
          "output_type": "stream",
          "name": "stdout",
          "text": [
            "(1, 'Bill', 'Tibb', 'Mr', 61, 28, '2012-05-02', '900239889v', 2)\n"
          ]
        }
      ],
      "source": [
        "c = conn.cursor()\n",
        "\n",
        "c.execute('''\n",
        "  SELECT *, COUNT(*) AS duplicates\n",
        "  FROM employees\n",
        "  GROUP BY id\n",
        "  HAVING COUNT(*) > 1\n",
        "''')\n",
        "\n",
        "results = c.fetchall()\n",
        "\n",
        "for result in results:\n",
        "  print(result)\n",
        "\n",
        "c.close()"
      ]
    },
    {
      "cell_type": "markdown",
      "metadata": {
        "id": "u921M9wGCRUJ"
      },
      "source": [
        "### **Identify uniqueness violations (Duplicate all columns except primary key)**"
      ]
    },
    {
      "cell_type": "code",
      "execution_count": 67,
      "metadata": {
        "colab": {
          "base_uri": "https://localhost:8080/"
        },
        "id": "gLDn8qd3BmLQ",
        "outputId": "96927bb4-6512-4b5a-c4d9-c61f05d8d0ff"
      },
      "outputs": [
        {
          "output_type": "stream",
          "name": "stdout",
          "text": [
            "(6, 'David', 'Guerin', 'Honorable', 36, 20, '2018-03-30', '123456789v', 2)\n"
          ]
        }
      ],
      "source": [
        "c = conn.cursor()\n",
        "\n",
        "c.execute('''\n",
        "  SELECT *, COUNT(*) AS duplicates\n",
        "  FROM employees\n",
        "  GROUP BY f_name, l_name, title, age, wage, hire_date, NIC\n",
        "  HAVING COUNT(*) > 1\n",
        "''')\n",
        "\n",
        "results = c.fetchall()\n",
        "\n",
        "for result in results:\n",
        "  print(result)\n",
        "\n",
        "c.close()"
      ]
    },
    {
      "cell_type": "markdown",
      "metadata": {
        "id": "jqYUVx3xl6Cl"
      },
      "source": [
        "### **Identify uniqueness violations for a key - Display all**"
      ]
    },
    {
      "cell_type": "code",
      "execution_count": 68,
      "metadata": {
        "colab": {
          "base_uri": "https://localhost:8080/"
        },
        "id": "4pGzloqgl5Mj",
        "outputId": "6724a244-c072-489a-b296-9ad9c258bd27"
      },
      "outputs": [
        {
          "output_type": "stream",
          "name": "stdout",
          "text": [
            "(1, 'kavishka', 'tim', 'Mr', 22, 28, '2022-05-01', '200005303420')\n",
            "(1, 'Bill', 'Tibb', 'Mr', 61, 28, '2012-05-02', '900239889v')\n"
          ]
        }
      ],
      "source": [
        "c = conn.cursor()\n",
        "\n",
        "c.execute('''\n",
        "  SELECT a.*\n",
        "  FROM employees a, (SELECT *, COUNT(*)\n",
        "        FROM employees\n",
        "        GROUP BY id\n",
        "        HAVING COUNT(*) > 1) b\n",
        "  WHERE a.id = b.id\n",
        "''')\n",
        "\n",
        "results = c.fetchall()\n",
        "\n",
        "for result in results:\n",
        "  print(result)\n",
        "\n",
        "c.close()"
      ]
    },
    {
      "cell_type": "markdown",
      "metadata": {
        "id": "6DCUcXQUu4xf"
      },
      "source": [
        "### **Identify uniqueness violations (Duplicate all columns except primary key) - Display all**"
      ]
    },
    {
      "cell_type": "code",
      "execution_count": 69,
      "metadata": {
        "colab": {
          "base_uri": "https://localhost:8080/"
        },
        "id": "vibYpfqYne7w",
        "outputId": "068f2fae-4609-448a-f55f-5b0b21545d7f"
      },
      "outputs": [
        {
          "output_type": "stream",
          "name": "stdout",
          "text": [
            "(5, 'David', 'Guerin', 'Honorable', 36, 20, '2018-03-30', '123456789v')\n",
            "(6, 'David', 'Guerin', 'Honorable', 36, 20, '2018-03-30', '123456789v')\n"
          ]
        }
      ],
      "source": [
        "c = conn.cursor()\n",
        "\n",
        "c.execute('''\n",
        "  SELECT a.*\n",
        "  FROM employees a, (SELECT *, COUNT(*) AS duplicates\n",
        "        FROM employees\n",
        "        GROUP BY f_name, l_name, title, age, wage, hire_date, NIC\n",
        "        HAVING COUNT(*) > 1) b\n",
        "  WHERE a.f_name = b.f_name and \n",
        "        a.l_name = b.l_name and \n",
        "        a.title = b.title and \n",
        "        a.age = b.age and \n",
        "        a.wage = b.wage and \n",
        "        a.hire_date = b.hire_date and \n",
        "        a.NIC = b.NIC\n",
        "''')\n",
        "\n",
        "results = c.fetchall()\n",
        "\n",
        "for result in results:\n",
        "  print(result)\n",
        "\n",
        "c.close()"
      ]
    },
    {
      "cell_type": "markdown",
      "metadata": {
        "id": "Aath008hEgo3"
      },
      "source": [
        "### **Handling**"
      ]
    },
    {
      "cell_type": "code",
      "execution_count": null,
      "metadata": {
        "colab": {
          "background_save": true
        },
        "id": "tLEtHEkODbql"
      },
      "outputs": [],
      "source": [
        "c = conn.cursor()\n",
        "\n",
        "c.execute('''\n",
        "  SELECT *, COUNT(id) AS duplicates\n",
        "  FROM employees\n",
        "  GROUP BY f_name, l_name, title, age, wage, hire_date, NIC\n",
        "  HAVING COUNT(*) > 1\n",
        "''')\n",
        "\n",
        "results = c.fetchall()\n",
        "\n",
        "for result in results:\n",
        "  c.execute(\"DELETE FROM employees WHERE id = ?\", (result[0],))\n",
        "  \n",
        "c.execute('''\n",
        "  SELECT *\n",
        "  FROM employees\n",
        "''')\n",
        "\n",
        "results = c.fetchall()\n",
        "\n",
        "for result in results:\n",
        "  print(result)\n",
        "\n",
        "c.close()"
      ]
    },
    {
      "cell_type": "markdown",
      "source": [
        "## Using RANK() function"
      ],
      "metadata": {
        "id": "6-FWAl5MUCht"
      }
    },
    {
      "cell_type": "markdown",
      "source": [
        "### **Identify**"
      ],
      "metadata": {
        "id": "R8K44s0AY5QU"
      }
    },
    {
      "cell_type": "code",
      "execution_count": null,
      "metadata": {
        "id": "1bA16nVKGGFq"
      },
      "outputs": [],
      "source": [
        "c = conn.cursor()\n",
        "\n",
        "c.execute('''\n",
        "  SELECT E.*, T.rank\n",
        "  FROM employees E\n",
        "    INNER JOIN\n",
        "    (\n",
        "    SELECT *, \n",
        "      RANK() OVER(PARTITION BY f_name, \n",
        "                                l_name,  \n",
        "                                title, \n",
        "                                age, \n",
        "                                wage, \n",
        "                                hire_date, \n",
        "                                NIC\n",
        "      ORDER BY id) rank\n",
        "    FROM employees e\n",
        "  ) T ON E.id = t.id;\n",
        "''')\n",
        "\n",
        "results = c.fetchall()\n",
        "\n",
        "for result in results:\n",
        "  print(result)\n",
        "\n",
        "c.close()"
      ]
    },
    {
      "cell_type": "markdown",
      "source": [
        "### **Handling**"
      ],
      "metadata": {
        "id": "fZ5Bc8mPZDvO"
      }
    },
    {
      "cell_type": "code",
      "source": [
        "c = conn.cursor()\n",
        "\n",
        "c.execute('''\n",
        "DELETE E\n",
        "    FROM employees E\n",
        "      INNER JOIN\n",
        "      (\n",
        "      SELECT *, \n",
        "        RANK() OVER(PARTITION BY f_name, \n",
        "                                  l_name,  \n",
        "                                  title, \n",
        "                                  age, \n",
        "                                  wage, \n",
        "                                  hire_date, \n",
        "                                  NIC\n",
        "        ORDER BY id) rank\n",
        "      FROM employees\n",
        "    ) T ON E.id = t.id\n",
        "    WHERE rank > 1;\n",
        "''')\n",
        "\n",
        "results = c.fetchall()\n",
        "\n",
        "for result in results:\n",
        "  print(result)\n",
        "\n",
        "c.close()"
      ],
      "metadata": {
        "id": "jTtRpvE2VpA5"
      },
      "execution_count": null,
      "outputs": []
    },
    {
      "cell_type": "markdown",
      "source": [
        "## Using Common Table Expressions (CTE)"
      ],
      "metadata": {
        "id": "WKM1PtaIYyJz"
      }
    },
    {
      "cell_type": "markdown",
      "source": [
        "### **Identify**"
      ],
      "metadata": {
        "id": "thmii2JMZBn-"
      }
    },
    {
      "cell_type": "code",
      "source": [
        "c = conn.cursor()\n",
        "\n",
        "c.execute('''\n",
        "WITH CTE(f_name, \n",
        "    l_name, \n",
        "    title, \n",
        "    age, \n",
        "    wage, \n",
        "    hire_date,\n",
        "    NIC,\n",
        "    duplicatecount)\n",
        "AS (SELECT f_name, \n",
        "            l_name, \n",
        "            title, \n",
        "            age, \n",
        "            wage, \n",
        "            hire_date,\n",
        "            NIC, \n",
        "           ROW_NUMBER() OVER(PARTITION BY f_name, \n",
        "                                          l_name, \n",
        "                                          title, \n",
        "                                          age, \n",
        "                                          wage, \n",
        "                                          hire_date,\n",
        "                                          NIC\n",
        "           ORDER BY id) AS DuplicateCount\n",
        "    FROM employees)\n",
        "SELECT *\n",
        "FROM CTE;\n",
        "''')\n",
        "\n",
        "c.close()"
      ],
      "metadata": {
        "id": "43njZ0cPWWzC"
      },
      "execution_count": null,
      "outputs": []
    },
    {
      "cell_type": "markdown",
      "source": [
        "### **Handling**"
      ],
      "metadata": {
        "id": "JSvFULx4ZHnY"
      }
    },
    {
      "cell_type": "code",
      "source": [
        "c = conn.cursor()\n",
        "\n",
        "c.execute('''\n",
        "WITH CTE(f_name, \n",
        "      l_name, \n",
        "      title, \n",
        "      age, \n",
        "      wage, \n",
        "      hire_date,\n",
        "      NIC,\n",
        "    duplicatecount)\n",
        "AS (SELECT f_name, \n",
        "            l_name, \n",
        "            title, \n",
        "            age, \n",
        "            wage, \n",
        "            hire_date,\n",
        "            NIC,\n",
        "           ROW_NUMBER() OVER(PARTITION BY f_name, \n",
        "                                          l_name, \n",
        "                                          title, \n",
        "                                          age, \n",
        "                                          wage, \n",
        "                                          hire_date,\n",
        "                                          NIC\n",
        "           ORDER BY id) AS DuplicateCount\n",
        "    FROM employees)\n",
        "DELETE FROM CTE\n",
        "WHERE DuplicateCount > 1;\n",
        "''')\n",
        "\n",
        "c.close()"
      ],
      "metadata": {
        "id": "L9h8x1nDX5LL"
      },
      "execution_count": null,
      "outputs": []
    }
  ],
  "metadata": {
    "colab": {
      "collapsed_sections": [],
      "provenance": [],
      "include_colab_link": true
    },
    "kernelspec": {
      "display_name": "Python 3",
      "name": "python3"
    },
    "language_info": {
      "name": "python"
    }
  },
  "nbformat": 4,
  "nbformat_minor": 0
}