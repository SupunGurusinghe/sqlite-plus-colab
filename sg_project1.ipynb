{
  "nbformat": 4,
  "nbformat_minor": 0,
  "metadata": {
    "colab": {
      "provenance": [],
      "collapsed_sections": [],
      "authorship_tag": "ABX9TyM2Nt4ed33PzOOikBA8A4+F",
      "include_colab_link": true
    },
    "kernelspec": {
      "name": "python3",
      "display_name": "Python 3"
    },
    "language_info": {
      "name": "python"
    }
  },
  "cells": [
    {
      "cell_type": "markdown",
      "metadata": {
        "id": "view-in-github",
        "colab_type": "text"
      },
      "source": [
        "<a href=\"https://colab.research.google.com/github/SupunGurusinghe/sqlite-plus-colab/blob/main/sg_project1.ipynb\" target=\"_parent\"><img src=\"https://colab.research.google.com/assets/colab-badge.svg\" alt=\"Open In Colab\"/></a>"
      ]
    },
    {
      "cell_type": "markdown",
      "source": [
        "## Imports"
      ],
      "metadata": {
        "id": "RrcDyUF-FDb4"
      }
    },
    {
      "cell_type": "code",
      "execution_count": 95,
      "metadata": {
        "id": "1VDtEJCWMyPz"
      },
      "outputs": [],
      "source": [
        "import pandas as pd\n",
        "from sqlite3 import connect"
      ]
    },
    {
      "cell_type": "markdown",
      "source": [
        "## DB Connection"
      ],
      "metadata": {
        "id": "1z8n-KGzFIn0"
      }
    },
    {
      "cell_type": "code",
      "source": [
        "conn = connect('test.db')"
      ],
      "metadata": {
        "id": "yjLNjP9I2H-Z"
      },
      "execution_count": 98,
      "outputs": []
    },
    {
      "cell_type": "markdown",
      "source": [
        "# **Basic NULL values handling**"
      ],
      "metadata": {
        "id": "xRBXsSZx1lNW"
      }
    },
    {
      "cell_type": "markdown",
      "source": [
        "## SQLite Creating a table"
      ],
      "metadata": {
        "id": "oklS44PYFN_S"
      }
    },
    {
      "cell_type": "code",
      "source": [
        "c = conn.cursor()\n",
        "\n",
        "# dropping an existing table\n",
        "c.execute(\"DROP TABLE IF EXISTS employees\")\n",
        "\n",
        "# create table\n",
        "c.execute('''\n",
        "  CREATE TABLE employees(\n",
        "    id INT,\n",
        "    f_name VARCHAR(50),\n",
        "    l_name VARCHAR(50),\n",
        "    title VARCHAR(10),\n",
        "    age INT,\n",
        "    wage INT,\n",
        "    hire_date DATE\n",
        "  )\n",
        "''')\n",
        "\n",
        "employees = [(1, 'kavishka', 'tim', 'Mr', 22, 28, '2022-05-01'), \n",
        "             (2, 'Bill', 'Tibb', 'Mr', 61, 28, '2012-05-02'), \n",
        "             (3, 'Bill', 'Sadat', None, 18, 12, '2019-11-08'),\n",
        "             (4, 'Christine', 'Riveles', None, 36, 20, '2018-03-30'),\n",
        "             (5, 'David', 'Guerin', 'Honorable', 36, 20, '2018-03-30'),\n",
        "             (None, 'David', 'Guerin', 'Honorable', 36, 20, '2018-03-30')]\n",
        "\n",
        "c.executemany(\"INSERT INTO employees VALUES (?,?,?,?,?,?,?)\", employees)\n",
        "\n",
        "c.execute('SELECT * FROM employees')\n",
        "\n",
        "results = c.fetchall()\n",
        "\n",
        "for result in results:\n",
        "  print(result)\n",
        "\n",
        "c.close()"
      ],
      "metadata": {
        "colab": {
          "base_uri": "https://localhost:8080/"
        },
        "id": "ATp1vz7bFR7l",
        "outputId": "426bb11e-81eb-4532-9daa-fbe20af038ba"
      },
      "execution_count": 120,
      "outputs": [
        {
          "output_type": "stream",
          "name": "stdout",
          "text": [
            "(1, 'kavishka', 'tim', 'Mr', 22, 28, '2022-05-01')\n",
            "(2, 'Bill', 'Tibb', 'Mr', 61, 28, '2012-05-02')\n",
            "(3, 'Bill', 'Sadat', None, 18, 12, '2019-11-08')\n",
            "(4, 'Christine', 'Riveles', None, 36, 20, '2018-03-30')\n",
            "(5, 'David', 'Guerin', 'Honorable', 36, 20, '2018-03-30')\n",
            "(None, 'David', 'Guerin', 'Honorable', 36, 20, '2018-03-30')\n"
          ]
        }
      ]
    },
    {
      "cell_type": "markdown",
      "source": [
        "\n",
        "\n",
        "---\n",
        "\n"
      ],
      "metadata": {
        "id": "HzTd87QSyB71"
      }
    },
    {
      "cell_type": "markdown",
      "source": [
        "## Identify `NULL` values"
      ],
      "metadata": {
        "id": "z4sjDm5uTvry"
      }
    },
    {
      "cell_type": "code",
      "source": [
        "c = conn.cursor()\n",
        "\n",
        "c.execute('''\n",
        "  SELECT \n",
        "    SUM(case when id IS NULL then 1 ELSE 0 END) AS id ,\n",
        "    SUM(case when f_name IS NULL then 1 ELSE 0 END) AS f_name,\n",
        "    SUM(case when l_name IS NULL then 1 ELSE 0 END) AS l_name,\n",
        "    SUM(case when title IS NULL then 1 ELSE 0 END) AS title,\n",
        "    SUM(case when age IS NULL then 1 ELSE 0 END) AS age,\n",
        "    SUM(case when wage IS NULL then 1 ELSE 0 END) AS wage,\n",
        "    SUM(case when hire_date IS NULL then 1 ELSE 0 END) AS hire_date\n",
        "  FROM employees\n",
        "''')\n",
        "\n",
        "results = c.fetchall()\n",
        "\n",
        "for result in results:\n",
        "  print(result)\n",
        "\n",
        "c.close()"
      ],
      "metadata": {
        "id": "Y3wRCIKnTujZ",
        "colab": {
          "base_uri": "https://localhost:8080/"
        },
        "outputId": "057861f8-0b52-4822-c88e-2a90690b49fa"
      },
      "execution_count": 102,
      "outputs": [
        {
          "output_type": "stream",
          "name": "stdout",
          "text": [
            "(1, 0, 0, 2, 0, 0, 0)\n"
          ]
        }
      ]
    },
    {
      "cell_type": "markdown",
      "source": [
        "## Selecting rows having `NULL` value for a particular column"
      ],
      "metadata": {
        "id": "ODzcmLKprzwz"
      }
    },
    {
      "cell_type": "code",
      "source": [
        "c = conn.cursor()\n",
        "\n",
        "c.execute('''\n",
        "  SELECT *\n",
        "  FROM employees\n",
        "  WHERE title IS NULL\n",
        "''')\n",
        "\n",
        "results = c.fetchall()\n",
        "\n",
        "for result in results:\n",
        "  print(result)\n",
        "\n",
        "c.close()"
      ],
      "metadata": {
        "id": "W0-fhTpISScC",
        "colab": {
          "base_uri": "https://localhost:8080/"
        },
        "outputId": "0139a164-a5a5-4241-f9a3-fee10a4ad63e"
      },
      "execution_count": 103,
      "outputs": [
        {
          "output_type": "stream",
          "name": "stdout",
          "text": [
            "(3, 'Bill', 'Sadat', None, 18, 12, '2019-11-08')\n",
            "(4, 'Christine', 'Riveles', None, 36, 20, '2018-03-30')\n"
          ]
        }
      ]
    },
    {
      "cell_type": "markdown",
      "source": [
        "## Selecting rows having `NULL` value for any of the columns"
      ],
      "metadata": {
        "id": "iQOAFw_lvNQ-"
      }
    },
    {
      "cell_type": "code",
      "source": [
        "c = conn.cursor()\n",
        "\n",
        "c.execute('''\n",
        "  SELECT *\n",
        "  FROM employees\n",
        "  WHERE (id || f_name || l_name || title || age || wage || hire_date) IS NULL\n",
        "''')\n",
        "\n",
        "results = c.fetchall()\n",
        "\n",
        "for result in results:\n",
        "  print(result)\n",
        "\n",
        "c.close()"
      ],
      "metadata": {
        "colab": {
          "base_uri": "https://localhost:8080/"
        },
        "id": "hozU_mmCvTPu",
        "outputId": "3502b645-6c42-4bf3-cff2-3bcb75428c6e"
      },
      "execution_count": 104,
      "outputs": [
        {
          "output_type": "stream",
          "name": "stdout",
          "text": [
            "(3, 'Bill', 'Sadat', None, 18, 12, '2019-11-08')\n",
            "(4, 'Christine', 'Riveles', None, 36, 20, '2018-03-30')\n",
            "(None, 'David', 'Guerin', 'Honorable', 36, 20, '2018-03-30')\n"
          ]
        }
      ]
    },
    {
      "cell_type": "markdown",
      "source": [
        "## Deleting rows where column value is null"
      ],
      "metadata": {
        "id": "hrZSI2wvZF1a"
      }
    },
    {
      "cell_type": "code",
      "source": [
        "c = conn.cursor()\n",
        "\n",
        "c.execute('''\n",
        "  DELETE FROM employees WHERE id IS NULL\n",
        "''')\n",
        "\n",
        "c.close()"
      ],
      "metadata": {
        "id": "tiRds5YGc1e1"
      },
      "execution_count": 105,
      "outputs": []
    },
    {
      "cell_type": "markdown",
      "source": [
        "## Dropping a column when all rows have null for that column"
      ],
      "metadata": {
        "id": "4xG1pqQKe4jj"
      }
    },
    {
      "cell_type": "code",
      "source": [
        "# If all null\n",
        "c = conn.cursor()\n",
        "\n",
        "c.execute('''SELECT id FROM employees GROUP BY id''')\n",
        "\n",
        "results = c.fetchall()\n",
        "\n",
        "for result in results:\n",
        "  print(result)\n",
        "\n",
        "c.close()"
      ],
      "metadata": {
        "colab": {
          "base_uri": "https://localhost:8080/"
        },
        "id": "ULbzn0mJgBFN",
        "outputId": "640c8fbc-0324-4237-9273-40c50e1777de"
      },
      "execution_count": 106,
      "outputs": [
        {
          "output_type": "stream",
          "name": "stdout",
          "text": [
            "(1,)\n",
            "(2,)\n",
            "(3,)\n",
            "(4,)\n",
            "(5,)\n"
          ]
        }
      ]
    },
    {
      "cell_type": "code",
      "source": [
        "# If all null\n",
        "c = conn.cursor()\n",
        "\n",
        "c.execute('''SELECT DISTINCT id FROM employees''')\n",
        "\n",
        "results = c.fetchall()\n",
        "\n",
        "for result in results:\n",
        "  print(result)\n",
        "\n",
        "c.close()"
      ],
      "metadata": {
        "colab": {
          "base_uri": "https://localhost:8080/"
        },
        "id": "obLqUAD3rn7U",
        "outputId": "3a3f62ed-90f6-4b88-ed1e-cfd46da6c90e"
      },
      "execution_count": 107,
      "outputs": [
        {
          "output_type": "stream",
          "name": "stdout",
          "text": [
            "(1,)\n",
            "(2,)\n",
            "(3,)\n",
            "(4,)\n",
            "(5,)\n"
          ]
        }
      ]
    },
    {
      "cell_type": "code",
      "source": [
        "# If zero (0)\n",
        "c = conn.cursor()\n",
        "\n",
        "c.execute('''SELECT count(id) FROM employees WHERE id IS NOT NULL''')\n",
        "\n",
        "results = c.fetchall()\n",
        "\n",
        "for result in results:\n",
        "  print(result)\n",
        "\n",
        "c.close()"
      ],
      "metadata": {
        "colab": {
          "base_uri": "https://localhost:8080/"
        },
        "id": "hXXKacj0rwxM",
        "outputId": "9dc5d640-2563-4369-962c-25c05de13fe6"
      },
      "execution_count": 108,
      "outputs": [
        {
          "output_type": "stream",
          "name": "stdout",
          "text": [
            "(5,)\n"
          ]
        }
      ]
    },
    {
      "cell_type": "code",
      "source": [
        "#  if you only get back just NULL (or 0 for that last one)\n",
        "c = conn.cursor()\n",
        "\n",
        "c.execute('''CREATE TEMPORARY TABLE t1_backup(f_name, l_name, title, age, wage, hire_date)''')\n",
        "c.execute('''INSERT INTO t1_backup SELECT f_name, l_name, title, age, wage, hire_date FROM employees''')\n",
        "c.execute('''DROP TABLE employees''')\n",
        "c.execute('''CREATE TABLE employees(f_name, l_name, title, age, wage, hire_date)''')\n",
        "c.execute('''INSERT INTO employees SELECT f_name, l_name, title, age, wage, hire_date FROM t1_backup''')\n",
        "c.execute('''DROP TABLE t1_backup''')\n",
        "\n",
        "c.execute('''\n",
        "  SELECT *\n",
        "  FROM employees\n",
        "''')\n",
        "results = c.fetchall()\n",
        "\n",
        "for result in results:\n",
        "  print(result)\n",
        "\n",
        "c.close()"
      ],
      "metadata": {
        "id": "kKV2Eq0nrYXu",
        "colab": {
          "base_uri": "https://localhost:8080/"
        },
        "outputId": "ba1d7746-b6d4-4458-b3e5-f9943efbc7d7"
      },
      "execution_count": 121,
      "outputs": [
        {
          "output_type": "stream",
          "name": "stdout",
          "text": [
            "('kavishka', 'tim', 'Mr', 22, 28, '2022-05-01')\n",
            "('Bill', 'Tibb', 'Mr', 61, 28, '2012-05-02')\n",
            "('Bill', 'Sadat', None, 18, 12, '2019-11-08')\n",
            "('Christine', 'Riveles', None, 36, 20, '2018-03-30')\n",
            "('David', 'Guerin', 'Honorable', 36, 20, '2018-03-30')\n",
            "('David', 'Guerin', 'Honorable', 36, 20, '2018-03-30')\n"
          ]
        }
      ]
    },
    {
      "cell_type": "markdown",
      "source": [
        "## Replace `NULL` values with a sentinel (standard value)"
      ],
      "metadata": {
        "id": "puYmS4nwsOW1"
      }
    },
    {
      "cell_type": "code",
      "source": [
        "c = conn.cursor()\n",
        "\n",
        "c.execute('''\n",
        "  SELECT \n",
        "    f_name,\n",
        "    l_name,\n",
        "    CASE WHEN title IS NULL THEN 'Honorable' ELSE title END AS NewTitle\n",
        "  FROM employees\n",
        "''')\n",
        "\n",
        "results = c.fetchall()\n",
        "\n",
        "for result in results:\n",
        "  print(result)\n",
        "\n",
        "c.close()"
      ],
      "metadata": {
        "id": "NeCs7f85eKur",
        "colab": {
          "base_uri": "https://localhost:8080/"
        },
        "outputId": "132e6fce-39c0-468b-f1a3-63b2cd3e0067"
      },
      "execution_count": 122,
      "outputs": [
        {
          "output_type": "stream",
          "name": "stdout",
          "text": [
            "('kavishka', 'tim', 'Mr')\n",
            "('Bill', 'Tibb', 'Mr')\n",
            "('Bill', 'Sadat', 'Honorable')\n",
            "('Christine', 'Riveles', 'Honorable')\n",
            "('David', 'Guerin', 'Honorable')\n",
            "('David', 'Guerin', 'Honorable')\n"
          ]
        }
      ]
    },
    {
      "cell_type": "markdown",
      "source": [
        "# **Advance NULL values handling**"
      ],
      "metadata": {
        "id": "xEytkC3210QG"
      }
    },
    {
      "cell_type": "markdown",
      "source": [
        "## Replace by an statistical technique such as mean, median, or mode"
      ],
      "metadata": {
        "id": "DrisqPpa16GP"
      }
    },
    {
      "cell_type": "code",
      "source": [
        "c = conn.cursor()\n",
        "\n",
        "# dropping an existing table\n",
        "c.execute(\"DROP TABLE IF EXISTS house_price\")\n",
        "\n",
        "# create table\n",
        "c.execute('''\n",
        "  CREATE TABLE house_price(\n",
        "    id INT,\n",
        "    country VARCHAR(50),\n",
        "    city VARCHAR(50),\n",
        "    price DOUBLE,\n",
        "    a DOUBLE,\n",
        "    b DOUBLE,\n",
        "    c DOUBLE\n",
        "  )\n",
        "''')\n",
        "\n",
        "house_price = [(1, 'USA', 'LA', 1000000.00, 1, 3, 5), \n",
        "             (2, 'UK', 'London', 400000.00, None, 5, 7), \n",
        "             (3, 'USA', 'LA', 850000.00, 9, None, None),\n",
        "             (4, 'USA', 'LA', None, 12, 4, 9),\n",
        "             (5, 'USA', 'LA', 900000.00, 2, 6, 1),\n",
        "             (6, 'UK', 'London', 550000.00, None, 4, 8),\n",
        "             (7, 'USA', 'LA', 1000000.00, 8, 8, 8), \n",
        "             (8, 'UK', 'London', 400000.00, 1, 4, 9), \n",
        "             (9, 'USA', 'LA', 850000.00, 4, 4, 5),\n",
        "             (10, 'USA', 'LA', 1050000.00, None, None, None),\n",
        "             (11, 'USA', 'LA', 900000.00, 3, 8.5, 9),\n",
        "             (12, 'UK', 'London', None, 10, 7, None)]\n",
        "\n",
        "c.executemany(\"INSERT INTO house_price VALUES (?,?,?,?,?,?,?)\", house_price)\n",
        "\n",
        "c.execute('SELECT * FROM house_price')\n",
        "\n",
        "results = c.fetchall()\n",
        "\n",
        "for result in results:\n",
        "  print(result)\n",
        "\n",
        "c.close()"
      ],
      "metadata": {
        "colab": {
          "base_uri": "https://localhost:8080/"
        },
        "id": "I4L3J5Br13UX",
        "outputId": "1a145406-c173-469e-b7a0-ac5e3a77853a"
      },
      "execution_count": 123,
      "outputs": [
        {
          "output_type": "stream",
          "name": "stdout",
          "text": [
            "(1, 'USA', 'LA', 1000000.0, 1.0, 3.0, 5.0)\n",
            "(2, 'UK', 'London', 400000.0, None, 5.0, 7.0)\n",
            "(3, 'USA', 'LA', 850000.0, 9.0, None, None)\n",
            "(4, 'USA', 'LA', None, 12.0, 4.0, 9.0)\n",
            "(5, 'USA', 'LA', 900000.0, 2.0, 6.0, 1.0)\n",
            "(6, 'UK', 'London', 550000.0, None, 4.0, 8.0)\n",
            "(7, 'USA', 'LA', 1000000.0, 8.0, 8.0, 8.0)\n",
            "(8, 'UK', 'London', 400000.0, 1.0, 4.0, 9.0)\n",
            "(9, 'USA', 'LA', 850000.0, 4.0, 4.0, 5.0)\n",
            "(10, 'USA', 'LA', 1050000.0, None, None, None)\n",
            "(11, 'USA', 'LA', 900000.0, 3.0, 8.5, 9.0)\n",
            "(12, 'UK', 'London', None, 10.0, 7.0, None)\n"
          ]
        }
      ]
    },
    {
      "cell_type": "code",
      "source": [
        "c = conn.cursor()\n",
        "\n",
        "c.execute('''\n",
        "  SELECT \n",
        "    h.country, \n",
        "    h.city,\n",
        "    COALESCE(h.price, n.newprice) AS price_new\n",
        "  FROM house_price h, (SELECT s.city, AVG(s.price) AS newprice\n",
        "        FROM house_price s\n",
        "        GROUP BY s.city) n\n",
        "  WHERE h.city = n.city\n",
        "''')\n",
        "\n",
        "results = c.fetchall()\n",
        "\n",
        "for result in results:\n",
        "  print(result)\n",
        "\n",
        "c.close()"
      ],
      "metadata": {
        "colab": {
          "base_uri": "https://localhost:8080/"
        },
        "id": "I5ftJHRi5hEE",
        "outputId": "27b06d91-1684-4c8b-a892-5785025dd755"
      },
      "execution_count": 124,
      "outputs": [
        {
          "output_type": "stream",
          "name": "stdout",
          "text": [
            "('USA', 'LA', 1000000.0)\n",
            "('UK', 'London', 400000.0)\n",
            "('USA', 'LA', 850000.0)\n",
            "('USA', 'LA', 935714.2857142857)\n",
            "('USA', 'LA', 900000.0)\n",
            "('UK', 'London', 550000.0)\n",
            "('USA', 'LA', 1000000.0)\n",
            "('UK', 'London', 400000.0)\n",
            "('USA', 'LA', 850000.0)\n",
            "('USA', 'LA', 1050000.0)\n",
            "('USA', 'LA', 900000.0)\n",
            "('UK', 'London', 450000.0)\n"
          ]
        }
      ]
    },
    {
      "cell_type": "markdown",
      "source": [
        "`Note: Instead of AVG(), use functions such as MAX(), MIN() as necessary`"
      ],
      "metadata": {
        "id": "5RhwqEhbHhA9"
      }
    },
    {
      "cell_type": "code",
      "source": [],
      "metadata": {
        "id": "nHgq2FuzVcSX"
      },
      "execution_count": null,
      "outputs": []
    }
  ]
}