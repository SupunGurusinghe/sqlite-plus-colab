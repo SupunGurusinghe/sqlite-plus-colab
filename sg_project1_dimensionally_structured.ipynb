{
  "nbformat": 4,
  "nbformat_minor": 0,
  "metadata": {
    "colab": {
      "provenance": [],
      "authorship_tag": "ABX9TyOyY1pCe9QWPfGYhZebHRYd",
      "include_colab_link": true
    },
    "kernelspec": {
      "name": "python3",
      "display_name": "Python 3"
    },
    "language_info": {
      "name": "python"
    }
  },
  "cells": [
    {
      "cell_type": "markdown",
      "metadata": {
        "id": "view-in-github",
        "colab_type": "text"
      },
      "source": [
        "<a href=\"https://colab.research.google.com/github/SupunGurusinghe/sqlite-plus-colab/blob/main/sg_project1_dimensionally_structured.ipynb\" target=\"_parent\"><img src=\"https://colab.research.google.com/assets/colab-badge.svg\" alt=\"Open In Colab\"/></a>"
      ]
    },
    {
      "cell_type": "markdown",
      "source": [
        "# **Dimensionally Structured Columns**"
      ],
      "metadata": {
        "id": "aZXlc39GC7lD"
      }
    },
    {
      "cell_type": "markdown",
      "source": [
        "### **SQLite table creation**"
      ],
      "metadata": {
        "id": "BbAks-0mDCSW"
      }
    },
    {
      "cell_type": "code",
      "execution_count": 80,
      "metadata": {
        "colab": {
          "base_uri": "https://localhost:8080/"
        },
        "id": "emBqNkipmkmn",
        "outputId": "fd34ab6d-f112-46bc-bc80-31441c58f5df"
      },
      "outputs": [
        {
          "output_type": "stream",
          "name": "stdout",
          "text": [
            "(1, 'John', '03/01/1999', 23)\n",
            "(2, 'Peter', '02/22/2000', 20)\n",
            "(3, 'Emmly', '12/05/1995', 23)\n",
            "(4, 'Json', '05/17/1998', 24)\n",
            "(5, 'Rupa', '01/01/1999', 21)\n",
            "(6, 'Mill', '06/19/1980', 42)\n"
          ]
        }
      ],
      "source": [
        "import sqlite3\n",
        "import pandas as pd\n",
        "\n",
        "conn = sqlite3.connect('test_database')\n",
        "c = conn.cursor()\n",
        "\n",
        "# dropping an existing table\n",
        "c.execute(\"DROP TABLE IF EXISTS personal\")\n",
        "\n",
        "c.execute('''CREATE TABLE personal (\n",
        "  id INT, \n",
        "  name VARCHAR(30),\n",
        "  birthdate DATE,\n",
        "  age INT)\n",
        "''')\n",
        "\n",
        "data = [[1, 'John', '03/01/1999', 23], \n",
        "        [2, 'Peter', '02/22/2000', 20], \n",
        "        [3, 'Emmly', '12/05/1995', 23],\n",
        "        [4, 'Json', '05/17/1998', 24],\n",
        "        [5, 'Rupa', '01/01/1999', 21],\n",
        "        [6, 'Mill', '06/19/1980', 42]]\n",
        "\n",
        "personal = pd.DataFrame(data, columns=['id', 'name', 'birthdate', 'age'])\n",
        "\n",
        "\n",
        "conn.commit()\n",
        "\n",
        "personal.to_sql('personal', conn, if_exists='replace', index = False)\n",
        "\n",
        "c.execute('''\n",
        "  SELECT *\n",
        "  FROM personal\n",
        "''')\n",
        "\n",
        "for row in c.fetchall():\n",
        "  print(row)"
      ]
    },
    {
      "cell_type": "code",
      "source": [
        "c.close()"
      ],
      "metadata": {
        "id": "PMoPr_MYzsU1"
      },
      "execution_count": 81,
      "outputs": []
    },
    {
      "cell_type": "markdown",
      "source": [
        "#### **Convert table to dataframe**"
      ],
      "metadata": {
        "id": "s95bEw3dDIWQ"
      }
    },
    {
      "cell_type": "code",
      "source": [
        "def create_df(table_name):\n",
        "  c = conn.cursor()\n",
        "  # create dataframe from a table\n",
        "  c.execute(\"SELECT name FROM pragma_table_info(?) ORDER BY cid\", [table_name])\n",
        "  names = c.fetchall()\n",
        "\n",
        "  result_list = []\n",
        "  for name in names:\n",
        "    result_list.append(name[0])\n",
        "\n",
        "  c.execute(f'SELECT * FROM {table_name}')\n",
        "  results = c.fetchall()\n",
        "\n",
        "  df = pd.DataFrame(results, columns= result_list)\n",
        "  c.close()\n",
        "  return df\n",
        "\n"
      ],
      "metadata": {
        "id": "pA2ruAQu5Jje"
      },
      "execution_count": 82,
      "outputs": []
    },
    {
      "cell_type": "markdown",
      "source": [
        "### **Calculate time difference with respect to current date**"
      ],
      "metadata": {
        "id": "F4Xmup1xDOhH"
      }
    },
    {
      "cell_type": "code",
      "source": [
        "from datetime import datetime\n",
        "import numpy as np\n",
        "from dateutil.relativedelta import relativedelta\n",
        "\n",
        "def datediff(table_name, date_col):\n",
        "  c = conn.cursor()\n",
        "  df = create_df(table_name)\n",
        "\n",
        "  df[date_col] = pd.to_datetime(df[date_col], infer_datetime_format=True)\n",
        "  curr_time = pd.to_datetime(\"now\")\n",
        "  df['date_diff_yrs'] =  np.floor((curr_time - df[date_col]) / np.timedelta64(1, 'Y'))\n",
        "  \n",
        "  c.close()\n",
        "  return df"
      ],
      "metadata": {
        "id": "kWI2qYiCwaO-"
      },
      "execution_count": 59,
      "outputs": []
    },
    {
      "cell_type": "code",
      "source": [
        "# Function calling\n",
        "c = conn.cursor()\n",
        "\n",
        "table_name = 'personal'\n",
        "date_col = 'birthdate'\n",
        "df = datediff(table_name, date_col)\n",
        "df\n"
      ],
      "metadata": {
        "colab": {
          "base_uri": "https://localhost:8080/",
          "height": 237
        },
        "id": "dr_1RF9b6mc7",
        "outputId": "f61eb50c-734c-45b7-e97e-92b2ef50414f"
      },
      "execution_count": 61,
      "outputs": [
        {
          "output_type": "execute_result",
          "data": {
            "text/plain": [
              "   id   name  birthdate  age  date_diff_yrs\n",
              "0   1   John 1999-03-01   23           23.0\n",
              "1   2  Peter 2000-02-22   20           22.0\n",
              "2   3  Emmly 1995-12-05   23           26.0\n",
              "3   4   Json 1998-05-17   24           24.0\n",
              "4   5   Rupa 1999-01-01   21           23.0\n",
              "5   6   Mill 1980-06-19   42           42.0"
            ],
            "text/html": [
              "\n",
              "  <div id=\"df-0281e004-cfa2-43e6-8f9e-fe7cae13cd9d\">\n",
              "    <div class=\"colab-df-container\">\n",
              "      <div>\n",
              "<style scoped>\n",
              "    .dataframe tbody tr th:only-of-type {\n",
              "        vertical-align: middle;\n",
              "    }\n",
              "\n",
              "    .dataframe tbody tr th {\n",
              "        vertical-align: top;\n",
              "    }\n",
              "\n",
              "    .dataframe thead th {\n",
              "        text-align: right;\n",
              "    }\n",
              "</style>\n",
              "<table border=\"1\" class=\"dataframe\">\n",
              "  <thead>\n",
              "    <tr style=\"text-align: right;\">\n",
              "      <th></th>\n",
              "      <th>id</th>\n",
              "      <th>name</th>\n",
              "      <th>birthdate</th>\n",
              "      <th>age</th>\n",
              "      <th>date_diff_yrs</th>\n",
              "    </tr>\n",
              "  </thead>\n",
              "  <tbody>\n",
              "    <tr>\n",
              "      <th>0</th>\n",
              "      <td>1</td>\n",
              "      <td>John</td>\n",
              "      <td>1999-03-01</td>\n",
              "      <td>23</td>\n",
              "      <td>23.0</td>\n",
              "    </tr>\n",
              "    <tr>\n",
              "      <th>1</th>\n",
              "      <td>2</td>\n",
              "      <td>Peter</td>\n",
              "      <td>2000-02-22</td>\n",
              "      <td>20</td>\n",
              "      <td>22.0</td>\n",
              "    </tr>\n",
              "    <tr>\n",
              "      <th>2</th>\n",
              "      <td>3</td>\n",
              "      <td>Emmly</td>\n",
              "      <td>1995-12-05</td>\n",
              "      <td>23</td>\n",
              "      <td>26.0</td>\n",
              "    </tr>\n",
              "    <tr>\n",
              "      <th>3</th>\n",
              "      <td>4</td>\n",
              "      <td>Json</td>\n",
              "      <td>1998-05-17</td>\n",
              "      <td>24</td>\n",
              "      <td>24.0</td>\n",
              "    </tr>\n",
              "    <tr>\n",
              "      <th>4</th>\n",
              "      <td>5</td>\n",
              "      <td>Rupa</td>\n",
              "      <td>1999-01-01</td>\n",
              "      <td>21</td>\n",
              "      <td>23.0</td>\n",
              "    </tr>\n",
              "    <tr>\n",
              "      <th>5</th>\n",
              "      <td>6</td>\n",
              "      <td>Mill</td>\n",
              "      <td>1980-06-19</td>\n",
              "      <td>42</td>\n",
              "      <td>42.0</td>\n",
              "    </tr>\n",
              "  </tbody>\n",
              "</table>\n",
              "</div>\n",
              "      <button class=\"colab-df-convert\" onclick=\"convertToInteractive('df-0281e004-cfa2-43e6-8f9e-fe7cae13cd9d')\"\n",
              "              title=\"Convert this dataframe to an interactive table.\"\n",
              "              style=\"display:none;\">\n",
              "        \n",
              "  <svg xmlns=\"http://www.w3.org/2000/svg\" height=\"24px\"viewBox=\"0 0 24 24\"\n",
              "       width=\"24px\">\n",
              "    <path d=\"M0 0h24v24H0V0z\" fill=\"none\"/>\n",
              "    <path d=\"M18.56 5.44l.94 2.06.94-2.06 2.06-.94-2.06-.94-.94-2.06-.94 2.06-2.06.94zm-11 1L8.5 8.5l.94-2.06 2.06-.94-2.06-.94L8.5 2.5l-.94 2.06-2.06.94zm10 10l.94 2.06.94-2.06 2.06-.94-2.06-.94-.94-2.06-.94 2.06-2.06.94z\"/><path d=\"M17.41 7.96l-1.37-1.37c-.4-.4-.92-.59-1.43-.59-.52 0-1.04.2-1.43.59L10.3 9.45l-7.72 7.72c-.78.78-.78 2.05 0 2.83L4 21.41c.39.39.9.59 1.41.59.51 0 1.02-.2 1.41-.59l7.78-7.78 2.81-2.81c.8-.78.8-2.07 0-2.86zM5.41 20L4 18.59l7.72-7.72 1.47 1.35L5.41 20z\"/>\n",
              "  </svg>\n",
              "      </button>\n",
              "      \n",
              "  <style>\n",
              "    .colab-df-container {\n",
              "      display:flex;\n",
              "      flex-wrap:wrap;\n",
              "      gap: 12px;\n",
              "    }\n",
              "\n",
              "    .colab-df-convert {\n",
              "      background-color: #E8F0FE;\n",
              "      border: none;\n",
              "      border-radius: 50%;\n",
              "      cursor: pointer;\n",
              "      display: none;\n",
              "      fill: #1967D2;\n",
              "      height: 32px;\n",
              "      padding: 0 0 0 0;\n",
              "      width: 32px;\n",
              "    }\n",
              "\n",
              "    .colab-df-convert:hover {\n",
              "      background-color: #E2EBFA;\n",
              "      box-shadow: 0px 1px 2px rgba(60, 64, 67, 0.3), 0px 1px 3px 1px rgba(60, 64, 67, 0.15);\n",
              "      fill: #174EA6;\n",
              "    }\n",
              "\n",
              "    [theme=dark] .colab-df-convert {\n",
              "      background-color: #3B4455;\n",
              "      fill: #D2E3FC;\n",
              "    }\n",
              "\n",
              "    [theme=dark] .colab-df-convert:hover {\n",
              "      background-color: #434B5C;\n",
              "      box-shadow: 0px 1px 3px 1px rgba(0, 0, 0, 0.15);\n",
              "      filter: drop-shadow(0px 1px 2px rgba(0, 0, 0, 0.3));\n",
              "      fill: #FFFFFF;\n",
              "    }\n",
              "  </style>\n",
              "\n",
              "      <script>\n",
              "        const buttonEl =\n",
              "          document.querySelector('#df-0281e004-cfa2-43e6-8f9e-fe7cae13cd9d button.colab-df-convert');\n",
              "        buttonEl.style.display =\n",
              "          google.colab.kernel.accessAllowed ? 'block' : 'none';\n",
              "\n",
              "        async function convertToInteractive(key) {\n",
              "          const element = document.querySelector('#df-0281e004-cfa2-43e6-8f9e-fe7cae13cd9d');\n",
              "          const dataTable =\n",
              "            await google.colab.kernel.invokeFunction('convertToInteractive',\n",
              "                                                     [key], {});\n",
              "          if (!dataTable) return;\n",
              "\n",
              "          const docLinkHtml = 'Like what you see? Visit the ' +\n",
              "            '<a target=\"_blank\" href=https://colab.research.google.com/notebooks/data_table.ipynb>data table notebook</a>'\n",
              "            + ' to learn more about interactive tables.';\n",
              "          element.innerHTML = '';\n",
              "          dataTable['output_type'] = 'display_data';\n",
              "          await google.colab.output.renderOutput(dataTable, element);\n",
              "          const docLink = document.createElement('div');\n",
              "          docLink.innerHTML = docLinkHtml;\n",
              "          element.appendChild(docLink);\n",
              "        }\n",
              "      </script>\n",
              "    </div>\n",
              "  </div>\n",
              "  "
            ]
          },
          "metadata": {},
          "execution_count": 61
        }
      ]
    },
    {
      "cell_type": "code",
      "source": [
        "c.close()"
      ],
      "metadata": {
        "id": "qY3UAMFv7Dho"
      },
      "execution_count": 62,
      "outputs": []
    },
    {
      "cell_type": "markdown",
      "source": [
        "## **Creating table person_n**"
      ],
      "metadata": {
        "id": "SpBfkjjcROQ5"
      }
    },
    {
      "cell_type": "code",
      "source": [
        "c = conn.cursor()\n",
        "\n",
        "# dropping an existing table\n",
        "c.execute(\"DROP TABLE IF EXISTS personal_n\")\n",
        "\n",
        "c.execute('''CREATE TABLE personal_n (\n",
        "  id INT, \n",
        "  name VARCHAR(30),\n",
        "  birthdate DATE,\n",
        "  age INT)\n",
        "''')\n",
        "\n",
        "data = [[1, 'John', '20/01/1999', 23], \n",
        "        [2, 'Peter', '02/22/2000', 20], \n",
        "        [3, 'Emmly', '12/05/1995', 23],\n",
        "        [4, 'Json', '30/17/1998', 24],\n",
        "        [5, 'Rupa', '01/01/1999', 21],\n",
        "        [6, 'Mill', '06/19/1980', 42]]\n",
        "\n",
        "personal_n = pd.DataFrame(data, columns=['id', 'name', 'birthdate', 'age'])\n",
        "\n",
        "\n",
        "conn.commit()\n",
        "\n",
        "personal_n.to_sql('personal_n', conn, if_exists='replace', index = False)\n"
      ],
      "metadata": {
        "id": "SNdoA6FnOU9u"
      },
      "execution_count": 111,
      "outputs": []
    },
    {
      "cell_type": "markdown",
      "source": [
        "### **Check date format**"
      ],
      "metadata": {
        "id": "dfLmvWPARXWK"
      }
    },
    {
      "cell_type": "code",
      "source": [
        "from dateutil.parser import parse\n",
        "\n",
        "def is_date(date_str, fuzzy = False):\n",
        "    try:\n",
        "        parse(date_str, fuzzy = fuzzy)\n",
        "        return date_str\n",
        "\n",
        "    except ValueError:\n",
        "        pass"
      ],
      "metadata": {
        "id": "YpoxjYD1Bte6"
      },
      "execution_count": 112,
      "outputs": []
    },
    {
      "cell_type": "code",
      "source": [
        "import datetime\n",
        "\n",
        "def date_struct(tab_name, col_name, format):\n",
        "  table_name = tab_name\n",
        "  df = create_df(table_name)\n",
        "  i = 0\n",
        "  while i < len(df[col_name]):\n",
        "      date_group = is_date(str(df.loc[i, col_name]))\n",
        "      if date_group == None:\n",
        "        i = len(df[col_name])\n",
        "        continue\n",
        "      print(date_group)\n",
        "      try:\n",
        "        date_change = datetime.datetime.strptime(date_group, format).date()\n",
        "        print(date_change)\n",
        "      except ValueError:\n",
        "        print(f'Incorrect {col_name} on column {i}')\n",
        "        pass\n",
        "      i = i + 1"
      ],
      "metadata": {
        "id": "xiLQmR0tKN4T"
      },
      "execution_count": 147,
      "outputs": []
    },
    {
      "cell_type": "code",
      "source": [
        "tab_name = 'personal_n'\n",
        "col_name = 'birthdate'\n",
        "format = '%m/%d/%y'\n",
        "\n",
        "date_struct(tab_name, col_name, format)"
      ],
      "metadata": {
        "colab": {
          "base_uri": "https://localhost:8080/"
        },
        "id": "PogU7qzSNsXz",
        "outputId": "34561805-90c1-4de5-d6e3-b1a9d72209df"
      },
      "execution_count": 148,
      "outputs": [
        {
          "output_type": "stream",
          "name": "stdout",
          "text": [
            "20/01/1999\n",
            "Incorrect birthdate on column 0\n",
            "02/22/2000\n",
            "Incorrect birthdate on column 1\n",
            "12/05/1995\n",
            "Incorrect birthdate on column 2\n"
          ]
        }
      ]
    },
    {
      "cell_type": "code",
      "source": [],
      "metadata": {
        "id": "Cg0WLTvBR7lo"
      },
      "execution_count": null,
      "outputs": []
    }
  ]
}